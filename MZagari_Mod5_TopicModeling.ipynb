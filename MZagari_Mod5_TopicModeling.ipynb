{
 "cells": [
  {
   "cell_type": "markdown",
   "id": "bce2bb89",
   "metadata": {},
   "source": [
    "# ADS 509 Assignment 5.1: Topic Modeling\n",
    "\n",
    "This notebook holds Assignment 5.1 for Module 5 in ADS 509, Applied Text Mining. Work through this notebook, writing code and answering questions where required. \n",
    "\n",
    "In this assignment you will work with a categorical corpus that accompanies `nltk`. You will build the three types of topic models described in Chapter 8 of _Blueprints for Text Analytics using Python_: NMF, LSA, and LDA. You will compare these models to the true categories. \n"
   ]
  },
  {
   "cell_type": "markdown",
   "id": "d87e2c06",
   "metadata": {},
   "source": [
    "## General Assignment Instructions\n",
    "\n",
    "These instructions are included in every assignment, to remind you of the coding standards for the class. Feel free to delete this cell after reading it. \n",
    "\n",
    "One sign of mature code is conforming to a style guide. We recommend the [Google Python Style Guide](https://google.github.io/styleguide/pyguide.html). If you use a different style guide, please include a cell with a link. \n",
    "\n",
    "Your code should be relatively easy-to-read, sensibly commented, and clean. Writing code is a messy process, so please be sure to edit your final submission. Remove any cells that are not needed or parts of cells that contain unnecessary code. Remove inessential `import` statements and make sure that all such statements are moved into the designated cell. \n",
    "\n",
    "Make use of non-code cells for written commentary. These cells should be grammatical and clearly written. In some of these cells you will have questions to answer. The questions will be marked by a \"Q:\" and will have a corresponding \"A:\" spot for you. *Make sure to answer every question marked with a `Q:` for full credit.* \n"
   ]
  },
  {
   "cell_type": "code",
   "execution_count": 54,
   "id": "a85bce08",
   "metadata": {},
   "outputs": [],
   "source": [
    "# These libraries may be useful to you\n",
    "\n",
    "import nltk\n",
    "from nltk.corpus import brown\n",
    "\n",
    "import numpy as np\n",
    "import pandas as pd\n",
    "from tqdm.auto import tqdm\n",
    "\n",
    "#import gensim\n",
    "#import gensim.corpora as corpora\n",
    "#from gensim.utils import simple_preprocess\n",
    "#from gensim.models import CoherenceModel,LdaMulticore, Phrases \n",
    "#from gensim.models.phrases import Phraser \n",
    "#from gensim.corpora import Dictionary\n",
    "\n",
    "import pyLDAvis\n",
    "import pyLDAvis.sklearn\n",
    "import pyLDAvis.gensim_models\n",
    "\n",
    "import spacy\n",
    "from sklearn.feature_extraction.text import TfidfVectorizer, CountVectorizer\n",
    "from sklearn.decomposition import NMF, TruncatedSVD, LatentDirichletAllocation\n",
    "\n",
    "from spacy.lang.en.stop_words import STOP_WORDS as stopwords\n",
    "\n",
    "from collections import Counter, defaultdict\n",
    "\n",
    "nlp = spacy.load('en_core_web_sm')\n",
    "\n"
   ]
  },
  {
   "cell_type": "code",
   "execution_count": 55,
   "id": "c384e6f4",
   "metadata": {},
   "outputs": [],
   "source": [
    "# add any additional libaries you need here\n"
   ]
  },
  {
   "cell_type": "markdown",
   "id": "a0addeb3",
   "metadata": {},
   "source": [
    "### Add supplemental stopwords per runtime warning"
   ]
  },
  {
   "cell_type": "code",
   "execution_count": 56,
   "id": "a218df60",
   "metadata": {},
   "outputs": [],
   "source": [
    "# adding two stopwords that were generated from tokenizing stopwords but not initially included in stopwords\n",
    "# (runtime warning from vectorizer function)\n",
    "\n",
    "stopwords.add(\"ll\")\n",
    "stopwords.add(\"ve\")"
   ]
  },
  {
   "cell_type": "markdown",
   "id": "91791462",
   "metadata": {},
   "source": [
    "### Topic display function"
   ]
  },
  {
   "cell_type": "code",
   "execution_count": 57,
   "id": "494de237",
   "metadata": {},
   "outputs": [],
   "source": [
    "# This function comes from the BTAP repo.\n",
    "\n",
    "def display_topics(model, features, no_top_words=5):\n",
    "    for topic, words in enumerate(model.components_):\n",
    "        total = words.sum()\n",
    "        largest = words.argsort()[::-1] # invert sort order\n",
    "        print(\"\\nTopic %02d\" % topic)\n",
    "        for i in range(0, no_top_words):\n",
    "            print(\"  %s (%2.2f)\" % (features[largest[i]], abs(words[largest[i]]*100.0/total)))"
   ]
  },
  {
   "cell_type": "markdown",
   "id": "a30a901c",
   "metadata": {},
   "source": [
    "## Getting to Know the Brown Corpus\n",
    "\n",
    "Let's spend a bit of time getting to know what's in the Brown corpus, our NLTK example of an \"overlapping\" corpus."
   ]
  },
  {
   "cell_type": "code",
   "execution_count": 58,
   "id": "457c59ed",
   "metadata": {},
   "outputs": [
    {
     "name": "stderr",
     "output_type": "stream",
     "text": [
      "[nltk_data] Downloading package brown to\n",
      "[nltk_data]     C:\\Users\\drzag\\AppData\\Roaming\\nltk_data...\n",
      "[nltk_data]   Package brown is already up-to-date!\n"
     ]
    },
    {
     "data": {
      "text/plain": [
       "['adventure',\n",
       " 'belles_lettres',\n",
       " 'editorial',\n",
       " 'fiction',\n",
       " 'government',\n",
       " 'hobbies',\n",
       " 'humor',\n",
       " 'learned',\n",
       " 'lore',\n",
       " 'mystery',\n",
       " 'news',\n",
       " 'religion',\n",
       " 'reviews',\n",
       " 'romance',\n",
       " 'science_fiction']"
      ]
     },
     "execution_count": 58,
     "metadata": {},
     "output_type": "execute_result"
    }
   ],
   "source": [
    "# categories of articles in Brown corpus\n",
    "\n",
    "# added the download command\n",
    "nltk.download('brown')\n",
    "\n",
    "brown.categories()"
   ]
  },
  {
   "cell_type": "code",
   "execution_count": 59,
   "id": "61664471",
   "metadata": {},
   "outputs": [
    {
     "name": "stdout",
     "output_type": "stream",
     "text": [
      "For adventure we have 29 articles.\n",
      "For belles_lettres we have 75 articles.\n",
      "For editorial we have 27 articles.\n",
      "For fiction we have 29 articles.\n",
      "For government we have 30 articles.\n",
      "For hobbies we have 36 articles.\n",
      "For humor we have 9 articles.\n",
      "For learned we have 80 articles.\n",
      "For lore we have 48 articles.\n",
      "For mystery we have 24 articles.\n",
      "For news we have 44 articles.\n",
      "For religion we have 17 articles.\n",
      "For reviews we have 17 articles.\n",
      "For romance we have 29 articles.\n",
      "For science_fiction we have 6 articles.\n"
     ]
    }
   ],
   "source": [
    "for category in brown.categories() :\n",
    "    print(f\"For {category} we have {len(brown.fileids(categories=category))} articles.\")"
   ]
  },
  {
   "cell_type": "markdown",
   "id": "23fb133c",
   "metadata": {},
   "source": [
    "Let's create a dataframe of the articles in of hobbies, editorial, government, news, and romance."
   ]
  },
  {
   "cell_type": "code",
   "execution_count": 60,
   "id": "18f50b9d",
   "metadata": {},
   "outputs": [
    {
     "name": "stdout",
     "output_type": "stream",
     "text": [
      "(166, 3)\n"
     ]
    },
    {
     "data": {
      "text/html": [
       "<div>\n",
       "<style scoped>\n",
       "    .dataframe tbody tr th:only-of-type {\n",
       "        vertical-align: middle;\n",
       "    }\n",
       "\n",
       "    .dataframe tbody tr th {\n",
       "        vertical-align: top;\n",
       "    }\n",
       "\n",
       "    .dataframe thead th {\n",
       "        text-align: right;\n",
       "    }\n",
       "</style>\n",
       "<table border=\"1\" class=\"dataframe\">\n",
       "  <thead>\n",
       "    <tr style=\"text-align: right;\">\n",
       "      <th></th>\n",
       "      <th>category</th>\n",
       "      <th>id</th>\n",
       "      <th>text</th>\n",
       "    </tr>\n",
       "  </thead>\n",
       "  <tbody>\n",
       "    <tr>\n",
       "      <th>161</th>\n",
       "      <td>hobbies</td>\n",
       "      <td>ce32</td>\n",
       "      <td>Throughout history , the man who showed superi...</td>\n",
       "    </tr>\n",
       "    <tr>\n",
       "      <th>162</th>\n",
       "      <td>hobbies</td>\n",
       "      <td>ce33</td>\n",
       "      <td>Sixty miles north of New York City where the w...</td>\n",
       "    </tr>\n",
       "    <tr>\n",
       "      <th>163</th>\n",
       "      <td>hobbies</td>\n",
       "      <td>ce34</td>\n",
       "      <td>In the period since the end of World War 2 , -...</td>\n",
       "    </tr>\n",
       "    <tr>\n",
       "      <th>164</th>\n",
       "      <td>hobbies</td>\n",
       "      <td>ce35</td>\n",
       "      <td>New rule no. 2 : : Don't build from the outsid...</td>\n",
       "    </tr>\n",
       "    <tr>\n",
       "      <th>165</th>\n",
       "      <td>hobbies</td>\n",
       "      <td>ce36</td>\n",
       "      <td>There comes a time in the lives of most of us ...</td>\n",
       "    </tr>\n",
       "  </tbody>\n",
       "</table>\n",
       "</div>"
      ],
      "text/plain": [
       "    category    id                                               text\n",
       "161  hobbies  ce32  Throughout history , the man who showed superi...\n",
       "162  hobbies  ce33  Sixty miles north of New York City where the w...\n",
       "163  hobbies  ce34  In the period since the end of World War 2 , -...\n",
       "164  hobbies  ce35  New rule no. 2 : : Don't build from the outsid...\n",
       "165  hobbies  ce36  There comes a time in the lives of most of us ..."
      ]
     },
     "execution_count": 60,
     "metadata": {},
     "output_type": "execute_result"
    }
   ],
   "source": [
    "categories = ['editorial','government','news','romance','hobbies'] \n",
    "\n",
    "category_list = []\n",
    "file_ids = []\n",
    "texts = []\n",
    "\n",
    "for category in categories : \n",
    "    for file_id in brown.fileids(categories=category) :\n",
    "        \n",
    "        # build some lists for a dataframe\n",
    "        category_list.append(category)\n",
    "        file_ids.append(file_id)\n",
    "        \n",
    "        text = brown.words(fileids=file_id)\n",
    "        texts.append(\" \".join(text))\n",
    "\n",
    "        \n",
    "        \n",
    "df = pd.DataFrame()\n",
    "df['category'] = category_list\n",
    "df['id'] = file_ids\n",
    "df['text'] = texts \n",
    "\n",
    "print(df.shape)\n",
    "df.tail(5)"
   ]
  },
  {
   "cell_type": "code",
   "execution_count": 61,
   "id": "586f47de",
   "metadata": {},
   "outputs": [
    {
     "data": {
      "text/html": [
       "<div>\n",
       "<style scoped>\n",
       "    .dataframe tbody tr th:only-of-type {\n",
       "        vertical-align: middle;\n",
       "    }\n",
       "\n",
       "    .dataframe tbody tr th {\n",
       "        vertical-align: top;\n",
       "    }\n",
       "\n",
       "    .dataframe thead th {\n",
       "        text-align: right;\n",
       "    }\n",
       "</style>\n",
       "<table border=\"1\" class=\"dataframe\">\n",
       "  <thead>\n",
       "    <tr style=\"text-align: right;\">\n",
       "      <th></th>\n",
       "      <th>category</th>\n",
       "      <th>id</th>\n",
       "      <th>text</th>\n",
       "      <th>char_len</th>\n",
       "      <th>word_len</th>\n",
       "    </tr>\n",
       "  </thead>\n",
       "  <tbody>\n",
       "    <tr>\n",
       "      <th>161</th>\n",
       "      <td>hobbies</td>\n",
       "      <td>ce32</td>\n",
       "      <td>Throughout history , the man who showed superi...</td>\n",
       "      <td>13629</td>\n",
       "      <td>2339</td>\n",
       "    </tr>\n",
       "    <tr>\n",
       "      <th>162</th>\n",
       "      <td>hobbies</td>\n",
       "      <td>ce33</td>\n",
       "      <td>Sixty miles north of New York City where the w...</td>\n",
       "      <td>11845</td>\n",
       "      <td>2233</td>\n",
       "    </tr>\n",
       "    <tr>\n",
       "      <th>163</th>\n",
       "      <td>hobbies</td>\n",
       "      <td>ce34</td>\n",
       "      <td>In the period since the end of World War 2 , -...</td>\n",
       "      <td>13029</td>\n",
       "      <td>2300</td>\n",
       "    </tr>\n",
       "    <tr>\n",
       "      <th>164</th>\n",
       "      <td>hobbies</td>\n",
       "      <td>ce35</td>\n",
       "      <td>New rule no. 2 : : Don't build from the outsid...</td>\n",
       "      <td>11800</td>\n",
       "      <td>2272</td>\n",
       "    </tr>\n",
       "    <tr>\n",
       "      <th>165</th>\n",
       "      <td>hobbies</td>\n",
       "      <td>ce36</td>\n",
       "      <td>There comes a time in the lives of most of us ...</td>\n",
       "      <td>11682</td>\n",
       "      <td>2232</td>\n",
       "    </tr>\n",
       "  </tbody>\n",
       "</table>\n",
       "</div>"
      ],
      "text/plain": [
       "    category    id                                               text  \\\n",
       "161  hobbies  ce32  Throughout history , the man who showed superi...   \n",
       "162  hobbies  ce33  Sixty miles north of New York City where the w...   \n",
       "163  hobbies  ce34  In the period since the end of World War 2 , -...   \n",
       "164  hobbies  ce35  New rule no. 2 : : Don't build from the outsid...   \n",
       "165  hobbies  ce36  There comes a time in the lives of most of us ...   \n",
       "\n",
       "     char_len  word_len  \n",
       "161     13629      2339  \n",
       "162     11845      2233  \n",
       "163     13029      2300  \n",
       "164     11800      2272  \n",
       "165     11682      2232  "
      ]
     },
     "execution_count": 61,
     "metadata": {},
     "output_type": "execute_result"
    }
   ],
   "source": [
    "# Let's add some helpful columns on the df\n",
    "df['char_len'] = df['text'].apply(len)\n",
    "df['word_len'] = df['text'].apply(lambda x: len(x.split()))\n",
    "df.tail(5)"
   ]
  },
  {
   "cell_type": "code",
   "execution_count": 62,
   "id": "2128fd2d",
   "metadata": {},
   "outputs": [
    {
     "data": {
      "text/plain": [
       "<AxesSubplot:xlabel='category'>"
      ]
     },
     "execution_count": 62,
     "metadata": {},
     "output_type": "execute_result"
    },
    {
     "data": {
      "image/png": "[encoded data removed]",
      "text/plain": [
       "<Figure size 720x432 with 1 Axes>"
      ]
     },
     "metadata": {
      "needs_background": "light"
     },
     "output_type": "display_data"
    }
   ],
   "source": [
    "%matplotlib inline\n",
    "df.groupby('category').agg({'word_len': 'mean'}).plot.bar(figsize=(10,6))"
   ]
  },
  {
   "cell_type": "markdown",
   "id": "554ffeb5",
   "metadata": {},
   "source": [
    "Now do our TF-IDF and Count vectorizations."
   ]
  },
  {
   "cell_type": "code",
   "execution_count": 63,
   "id": "21a7d247",
   "metadata": {},
   "outputs": [
    {
     "name": "stdout",
     "output_type": "stream",
     "text": [
      "(166, 4939)\n"
     ]
    },
    {
     "data": {
      "text/plain": [
       "<166x4939 sparse matrix of type '<class 'numpy.int64'>'\n",
       "\twith 72452 stored elements in Compressed Sparse Row format>"
      ]
     },
     "execution_count": 63,
     "metadata": {},
     "output_type": "execute_result"
    }
   ],
   "source": [
    "count_text_vectorizer = CountVectorizer(stop_words=stopwords, min_df=5, max_df=0.7)\n",
    "\n",
    "count_text_vectors = count_text_vectorizer.fit_transform(df[\"text\"])\n",
    "print(count_text_vectors.shape)\n",
    "count_text_vectors"
   ]
  },
  {
   "cell_type": "markdown",
   "id": "217d4fd5",
   "metadata": {},
   "source": [
    "Let's take a look at the actual elements in the sparse matrix:"
   ]
  },
  {
   "cell_type": "code",
   "execution_count": 64,
   "id": "244ad8a4",
   "metadata": {},
   "outputs": [
    {
     "data": {
      "text/html": [
       "<div>\n",
       "<style scoped>\n",
       "    .dataframe tbody tr th:only-of-type {\n",
       "        vertical-align: middle;\n",
       "    }\n",
       "\n",
       "    .dataframe tbody tr th {\n",
       "        vertical-align: top;\n",
       "    }\n",
       "\n",
       "    .dataframe thead th {\n",
       "        text-align: right;\n",
       "    }\n",
       "</style>\n",
       "<table border=\"1\" class=\"dataframe\">\n",
       "  <thead>\n",
       "    <tr style=\"text-align: right;\">\n",
       "      <th></th>\n",
       "      <th>0</th>\n",
       "      <th>1</th>\n",
       "      <th>2</th>\n",
       "      <th>3</th>\n",
       "      <th>4</th>\n",
       "      <th>5</th>\n",
       "      <th>6</th>\n",
       "      <th>7</th>\n",
       "      <th>8</th>\n",
       "      <th>9</th>\n",
       "      <th>...</th>\n",
       "      <th>4929</th>\n",
       "      <th>4930</th>\n",
       "      <th>4931</th>\n",
       "      <th>4932</th>\n",
       "      <th>4933</th>\n",
       "      <th>4934</th>\n",
       "      <th>4935</th>\n",
       "      <th>4936</th>\n",
       "      <th>4937</th>\n",
       "      <th>4938</th>\n",
       "    </tr>\n",
       "  </thead>\n",
       "  <tbody>\n",
       "    <tr>\n",
       "      <th>161</th>\n",
       "      <td>0</td>\n",
       "      <td>0</td>\n",
       "      <td>0</td>\n",
       "      <td>0</td>\n",
       "      <td>0</td>\n",
       "      <td>0</td>\n",
       "      <td>0</td>\n",
       "      <td>0</td>\n",
       "      <td>0</td>\n",
       "      <td>1</td>\n",
       "      <td>...</td>\n",
       "      <td>0</td>\n",
       "      <td>0</td>\n",
       "      <td>0</td>\n",
       "      <td>0</td>\n",
       "      <td>0</td>\n",
       "      <td>0</td>\n",
       "      <td>0</td>\n",
       "      <td>0</td>\n",
       "      <td>0</td>\n",
       "      <td>0</td>\n",
       "    </tr>\n",
       "    <tr>\n",
       "      <th>162</th>\n",
       "      <td>0</td>\n",
       "      <td>2</td>\n",
       "      <td>0</td>\n",
       "      <td>0</td>\n",
       "      <td>0</td>\n",
       "      <td>0</td>\n",
       "      <td>0</td>\n",
       "      <td>0</td>\n",
       "      <td>1</td>\n",
       "      <td>2</td>\n",
       "      <td>...</td>\n",
       "      <td>0</td>\n",
       "      <td>0</td>\n",
       "      <td>0</td>\n",
       "      <td>3</td>\n",
       "      <td>0</td>\n",
       "      <td>0</td>\n",
       "      <td>0</td>\n",
       "      <td>0</td>\n",
       "      <td>0</td>\n",
       "      <td>0</td>\n",
       "    </tr>\n",
       "    <tr>\n",
       "      <th>163</th>\n",
       "      <td>0</td>\n",
       "      <td>0</td>\n",
       "      <td>4</td>\n",
       "      <td>1</td>\n",
       "      <td>0</td>\n",
       "      <td>0</td>\n",
       "      <td>1</td>\n",
       "      <td>0</td>\n",
       "      <td>0</td>\n",
       "      <td>0</td>\n",
       "      <td>...</td>\n",
       "      <td>0</td>\n",
       "      <td>0</td>\n",
       "      <td>0</td>\n",
       "      <td>0</td>\n",
       "      <td>0</td>\n",
       "      <td>0</td>\n",
       "      <td>0</td>\n",
       "      <td>0</td>\n",
       "      <td>0</td>\n",
       "      <td>0</td>\n",
       "    </tr>\n",
       "    <tr>\n",
       "      <th>164</th>\n",
       "      <td>0</td>\n",
       "      <td>8</td>\n",
       "      <td>1</td>\n",
       "      <td>1</td>\n",
       "      <td>0</td>\n",
       "      <td>1</td>\n",
       "      <td>1</td>\n",
       "      <td>0</td>\n",
       "      <td>0</td>\n",
       "      <td>1</td>\n",
       "      <td>...</td>\n",
       "      <td>0</td>\n",
       "      <td>0</td>\n",
       "      <td>0</td>\n",
       "      <td>0</td>\n",
       "      <td>0</td>\n",
       "      <td>0</td>\n",
       "      <td>0</td>\n",
       "      <td>0</td>\n",
       "      <td>0</td>\n",
       "      <td>0</td>\n",
       "    </tr>\n",
       "    <tr>\n",
       "      <th>165</th>\n",
       "      <td>11</td>\n",
       "      <td>0</td>\n",
       "      <td>2</td>\n",
       "      <td>0</td>\n",
       "      <td>0</td>\n",
       "      <td>2</td>\n",
       "      <td>0</td>\n",
       "      <td>0</td>\n",
       "      <td>1</td>\n",
       "      <td>0</td>\n",
       "      <td>...</td>\n",
       "      <td>0</td>\n",
       "      <td>0</td>\n",
       "      <td>0</td>\n",
       "      <td>0</td>\n",
       "      <td>0</td>\n",
       "      <td>0</td>\n",
       "      <td>0</td>\n",
       "      <td>0</td>\n",
       "      <td>0</td>\n",
       "      <td>0</td>\n",
       "    </tr>\n",
       "  </tbody>\n",
       "</table>\n",
       "<p>5 rows × 4939 columns</p>\n",
       "</div>"
      ],
      "text/plain": [
       "     0     1     2     3     4     5     6     7     8     9     ...  4929  \\\n",
       "161     0     0     0     0     0     0     0     0     0     1  ...     0   \n",
       "162     0     2     0     0     0     0     0     0     1     2  ...     0   \n",
       "163     0     0     4     1     0     0     1     0     0     0  ...     0   \n",
       "164     0     8     1     1     0     1     1     0     0     1  ...     0   \n",
       "165    11     0     2     0     0     2     0     0     1     0  ...     0   \n",
       "\n",
       "     4930  4931  4932  4933  4934  4935  4936  4937  4938  \n",
       "161     0     0     0     0     0     0     0     0     0  \n",
       "162     0     0     3     0     0     0     0     0     0  \n",
       "163     0     0     0     0     0     0     0     0     0  \n",
       "164     0     0     0     0     0     0     0     0     0  \n",
       "165     0     0     0     0     0     0     0     0     0  \n",
       "\n",
       "[5 rows x 4939 columns]"
      ]
     },
     "execution_count": 64,
     "metadata": {},
     "output_type": "execute_result"
    }
   ],
   "source": [
    "pd.DataFrame.sparse.from_spmatrix(count_text_vectors).tail(5)"
   ]
  },
  {
   "cell_type": "code",
   "execution_count": 65,
   "id": "875deba9",
   "metadata": {},
   "outputs": [
    {
     "name": "stdout",
     "output_type": "stream",
     "text": [
      "(166, 4939)\n"
     ]
    },
    {
     "data": {
      "text/plain": [
       "<166x4939 sparse matrix of type '<class 'numpy.float64'>'\n",
       "\twith 72452 stored elements in Compressed Sparse Row format>"
      ]
     },
     "execution_count": 65,
     "metadata": {},
     "output_type": "execute_result"
    }
   ],
   "source": [
    "tfidf_text_vectorizer = TfidfVectorizer(stop_words=stopwords, min_df=5, max_df=0.7)\n",
    "tfidf_text_vectors = tfidf_text_vectorizer.fit_transform(df['text'])\n",
    "print(tfidf_text_vectors.shape)\n",
    "tfidf_text_vectors"
   ]
  },
  {
   "cell_type": "code",
   "execution_count": 66,
   "id": "45979bd5",
   "metadata": {},
   "outputs": [
    {
     "data": {
      "text/html": [
       "<div>\n",
       "<style scoped>\n",
       "    .dataframe tbody tr th:only-of-type {\n",
       "        vertical-align: middle;\n",
       "    }\n",
       "\n",
       "    .dataframe tbody tr th {\n",
       "        vertical-align: top;\n",
       "    }\n",
       "\n",
       "    .dataframe thead th {\n",
       "        text-align: right;\n",
       "    }\n",
       "</style>\n",
       "<table border=\"1\" class=\"dataframe\">\n",
       "  <thead>\n",
       "    <tr style=\"text-align: right;\">\n",
       "      <th></th>\n",
       "      <th>0</th>\n",
       "      <th>1</th>\n",
       "      <th>2</th>\n",
       "      <th>3</th>\n",
       "      <th>4</th>\n",
       "      <th>5</th>\n",
       "      <th>6</th>\n",
       "      <th>7</th>\n",
       "      <th>8</th>\n",
       "      <th>9</th>\n",
       "      <th>...</th>\n",
       "      <th>4929</th>\n",
       "      <th>4930</th>\n",
       "      <th>4931</th>\n",
       "      <th>4932</th>\n",
       "      <th>4933</th>\n",
       "      <th>4934</th>\n",
       "      <th>4935</th>\n",
       "      <th>4936</th>\n",
       "      <th>4937</th>\n",
       "      <th>4938</th>\n",
       "    </tr>\n",
       "  </thead>\n",
       "  <tbody>\n",
       "    <tr>\n",
       "      <th>161</th>\n",
       "      <td>0.000000</td>\n",
       "      <td>0.000000</td>\n",
       "      <td>0.000000</td>\n",
       "      <td>0.000000</td>\n",
       "      <td>0.0</td>\n",
       "      <td>0.000000</td>\n",
       "      <td>0.000000</td>\n",
       "      <td>0.0</td>\n",
       "      <td>0.000000</td>\n",
       "      <td>0.011308</td>\n",
       "      <td>...</td>\n",
       "      <td>0.0</td>\n",
       "      <td>0.0</td>\n",
       "      <td>0.0</td>\n",
       "      <td>0.00000</td>\n",
       "      <td>0.0</td>\n",
       "      <td>0.0</td>\n",
       "      <td>0.0</td>\n",
       "      <td>0.0</td>\n",
       "      <td>0.0</td>\n",
       "      <td>0.0</td>\n",
       "    </tr>\n",
       "    <tr>\n",
       "      <th>162</th>\n",
       "      <td>0.000000</td>\n",
       "      <td>0.027694</td>\n",
       "      <td>0.000000</td>\n",
       "      <td>0.000000</td>\n",
       "      <td>0.0</td>\n",
       "      <td>0.000000</td>\n",
       "      <td>0.000000</td>\n",
       "      <td>0.0</td>\n",
       "      <td>0.018711</td>\n",
       "      <td>0.034501</td>\n",
       "      <td>...</td>\n",
       "      <td>0.0</td>\n",
       "      <td>0.0</td>\n",
       "      <td>0.0</td>\n",
       "      <td>0.04494</td>\n",
       "      <td>0.0</td>\n",
       "      <td>0.0</td>\n",
       "      <td>0.0</td>\n",
       "      <td>0.0</td>\n",
       "      <td>0.0</td>\n",
       "      <td>0.0</td>\n",
       "    </tr>\n",
       "    <tr>\n",
       "      <th>163</th>\n",
       "      <td>0.000000</td>\n",
       "      <td>0.000000</td>\n",
       "      <td>0.037145</td>\n",
       "      <td>0.012368</td>\n",
       "      <td>0.0</td>\n",
       "      <td>0.000000</td>\n",
       "      <td>0.022478</td>\n",
       "      <td>0.0</td>\n",
       "      <td>0.000000</td>\n",
       "      <td>0.000000</td>\n",
       "      <td>...</td>\n",
       "      <td>0.0</td>\n",
       "      <td>0.0</td>\n",
       "      <td>0.0</td>\n",
       "      <td>0.00000</td>\n",
       "      <td>0.0</td>\n",
       "      <td>0.0</td>\n",
       "      <td>0.0</td>\n",
       "      <td>0.0</td>\n",
       "      <td>0.0</td>\n",
       "      <td>0.0</td>\n",
       "    </tr>\n",
       "    <tr>\n",
       "      <th>164</th>\n",
       "      <td>0.000000</td>\n",
       "      <td>0.083169</td>\n",
       "      <td>0.010015</td>\n",
       "      <td>0.013338</td>\n",
       "      <td>0.0</td>\n",
       "      <td>0.012361</td>\n",
       "      <td>0.024242</td>\n",
       "      <td>0.0</td>\n",
       "      <td>0.000000</td>\n",
       "      <td>0.012951</td>\n",
       "      <td>...</td>\n",
       "      <td>0.0</td>\n",
       "      <td>0.0</td>\n",
       "      <td>0.0</td>\n",
       "      <td>0.00000</td>\n",
       "      <td>0.0</td>\n",
       "      <td>0.0</td>\n",
       "      <td>0.0</td>\n",
       "      <td>0.0</td>\n",
       "      <td>0.0</td>\n",
       "      <td>0.0</td>\n",
       "    </tr>\n",
       "    <tr>\n",
       "      <th>165</th>\n",
       "      <td>0.289612</td>\n",
       "      <td>0.000000</td>\n",
       "      <td>0.021754</td>\n",
       "      <td>0.000000</td>\n",
       "      <td>0.0</td>\n",
       "      <td>0.026850</td>\n",
       "      <td>0.000000</td>\n",
       "      <td>0.0</td>\n",
       "      <td>0.015257</td>\n",
       "      <td>0.000000</td>\n",
       "      <td>...</td>\n",
       "      <td>0.0</td>\n",
       "      <td>0.0</td>\n",
       "      <td>0.0</td>\n",
       "      <td>0.00000</td>\n",
       "      <td>0.0</td>\n",
       "      <td>0.0</td>\n",
       "      <td>0.0</td>\n",
       "      <td>0.0</td>\n",
       "      <td>0.0</td>\n",
       "      <td>0.0</td>\n",
       "    </tr>\n",
       "  </tbody>\n",
       "</table>\n",
       "<p>5 rows × 4939 columns</p>\n",
       "</div>"
      ],
      "text/plain": [
       "         0         1         2         3     4         5         6     7     \\\n",
       "161  0.000000  0.000000  0.000000  0.000000   0.0  0.000000  0.000000   0.0   \n",
       "162  0.000000  0.027694  0.000000  0.000000   0.0  0.000000  0.000000   0.0   \n",
       "163  0.000000  0.000000  0.037145  0.012368   0.0  0.000000  0.022478   0.0   \n",
       "164  0.000000  0.083169  0.010015  0.013338   0.0  0.012361  0.024242   0.0   \n",
       "165  0.289612  0.000000  0.021754  0.000000   0.0  0.026850  0.000000   0.0   \n",
       "\n",
       "         8         9     ...  4929  4930  4931     4932  4933  4934  4935  \\\n",
       "161  0.000000  0.011308  ...   0.0   0.0   0.0  0.00000   0.0   0.0   0.0   \n",
       "162  0.018711  0.034501  ...   0.0   0.0   0.0  0.04494   0.0   0.0   0.0   \n",
       "163  0.000000  0.000000  ...   0.0   0.0   0.0  0.00000   0.0   0.0   0.0   \n",
       "164  0.000000  0.012951  ...   0.0   0.0   0.0  0.00000   0.0   0.0   0.0   \n",
       "165  0.015257  0.000000  ...   0.0   0.0   0.0  0.00000   0.0   0.0   0.0   \n",
       "\n",
       "     4936  4937  4938  \n",
       "161   0.0   0.0   0.0  \n",
       "162   0.0   0.0   0.0  \n",
       "163   0.0   0.0   0.0  \n",
       "164   0.0   0.0   0.0  \n",
       "165   0.0   0.0   0.0  \n",
       "\n",
       "[5 rows x 4939 columns]"
      ]
     },
     "execution_count": 66,
     "metadata": {},
     "output_type": "execute_result"
    }
   ],
   "source": [
    "pd.DataFrame.sparse.from_spmatrix(tfidf_text_vectors).tail(5)"
   ]
  },
  {
   "cell_type": "markdown",
   "id": "a1062b21",
   "metadata": {},
   "source": [
    "Q: What do the two data frames `count_text_vectors` and `tfidf_text_vectors` hold? \n",
    "\n",
    "A: \"count_text_vectors\" is a sparse matrix containing the actual raw count of tokens that appear in the entire corpus of 166 documents, one row (vectorized tokens) per document. It can be converted to a DataFrame to observe the values.  \"tfidf_text_vectors\" is a sparse matrix containing the frequency-adjusted (TF-IDF algorithm) token vectors."
   ]
  },
  {
   "cell_type": "markdown",
   "id": "f77c3f94",
   "metadata": {},
   "source": [
    "## Fitting a Non-Negative Matrix Factorization Model\n",
    "\n",
    "In this section the code to fit a five-topic NMF model has already been written. This code comes directly from the [BTAP repo](https://github.com/blueprints-for-text-analytics-python/blueprints-text), which will help you tremendously in the coming sections. "
   ]
  },
  {
   "cell_type": "code",
   "execution_count": 67,
   "id": "d28745a3",
   "metadata": {},
   "outputs": [
    {
     "name": "stderr",
     "output_type": "stream",
     "text": [
      "C:\\Users\\drzag\\anaconda3\\lib\\site-packages\\sklearn\\decomposition\\_nmf.py:289: FutureWarning: The 'init' value, when 'init=None' and n_components is less than n_samples and n_features, will be changed from 'nndsvd' to 'nndsvda' in 1.1 (renaming of 0.26).\n",
      "  warnings.warn(\n"
     ]
    }
   ],
   "source": [
    "nmf_text_model = NMF(n_components=5, random_state=314)\n",
    "W_text_matrix = nmf_text_model.fit_transform(tfidf_text_vectors)\n",
    "H_text_matrix = nmf_text_model.components_"
   ]
  },
  {
   "cell_type": "markdown",
   "id": "7d4d8c93",
   "metadata": {},
   "source": [
    "## Percentages for Each Topic"
   ]
  },
  {
   "cell_type": "code",
   "execution_count": 68,
   "id": "15d5e321",
   "metadata": {},
   "outputs": [
    {
     "data": {
      "text/plain": [
       "array([18.16274915, 25.96062775, 29.55441741, 14.30338276, 12.01882294])"
      ]
     },
     "execution_count": 68,
     "metadata": {},
     "output_type": "execute_result"
    }
   ],
   "source": [
    "W_text_matrix.sum(axis=0)/W_text_matrix.sum()*100"
   ]
  },
  {
   "cell_type": "code",
   "execution_count": 69,
   "id": "a67185e7",
   "metadata": {},
   "outputs": [
    {
     "name": "stdout",
     "output_type": "stream",
     "text": [
      "\n",
      "Topic 00\n",
      "  mr (0.51)\n",
      "  president (0.45)\n",
      "  kennedy (0.43)\n",
      "  united (0.42)\n",
      "  khrushchev (0.40)\n",
      "\n",
      "Topic 01\n",
      "  said (0.89)\n",
      "  didn (0.46)\n",
      "  thought (0.42)\n",
      "  man (0.38)\n",
      "  don (0.35)\n",
      "\n",
      "Topic 02\n",
      "  state (0.39)\n",
      "  development (0.36)\n",
      "  tax (0.33)\n",
      "  sales (0.30)\n",
      "  program (0.25)\n",
      "\n",
      "Topic 03\n",
      "  mrs (2.63)\n",
      "  mr (0.79)\n",
      "  said (0.63)\n",
      "  miss (0.53)\n",
      "  car (0.51)\n",
      "\n",
      "Topic 04\n",
      "  game (1.02)\n",
      "  league (0.75)\n",
      "  ball (0.73)\n",
      "  baseball (0.71)\n",
      "  team (0.67)\n"
     ]
    }
   ],
   "source": [
    "#Change to non-deprecated function:\n",
    "#display_topics(nmf_text_model, tfidf_text_vectorizer.get_feature_names())\n",
    "display_topics(nmf_text_model, tfidf_text_vectorizer.get_feature_names_out())\n",
    "\n",
    "# Map most likely known topics to new topics:\n",
    "# Editorial 02\n",
    "# Government 00\n",
    "# Hobbies 04\n",
    "# News 01\n",
    "# Romance 03"
   ]
  },
  {
   "cell_type": "markdown",
   "id": "fee51e9b",
   "metadata": {},
   "source": [
    "Now some work for you to do. Compare the NMF factorization to the original categories from the Brown Corpus.\n",
    "\n",
    "We are interested in the extent to which our NMF factorization agrees or disagrees with the original categories in the corpus. For each topic in your NMF model, tally the Brown categories and interpret the results. \n"
   ]
  },
  {
   "cell_type": "code",
   "execution_count": 70,
   "id": "bd8fec77",
   "metadata": {},
   "outputs": [],
   "source": [
    "X_vecs = nmf_text_model.transform(tfidf_text_vectors)"
   ]
  },
  {
   "cell_type": "code",
   "execution_count": 71,
   "id": "b3af2036",
   "metadata": {},
   "outputs": [],
   "source": [
    "# Get the top predicted topic\n",
    "pred_topics = [np.argsort(row)[::-1][0] for row in X_vecs]"
   ]
  },
  {
   "cell_type": "code",
   "execution_count": 72,
   "id": "52e9ffa9",
   "metadata": {
    "scrolled": true
   },
   "outputs": [
    {
     "data": {
      "text/html": [
       "<div>\n",
       "<style scoped>\n",
       "    .dataframe tbody tr th:only-of-type {\n",
       "        vertical-align: middle;\n",
       "    }\n",
       "\n",
       "    .dataframe tbody tr th {\n",
       "        vertical-align: top;\n",
       "    }\n",
       "\n",
       "    .dataframe thead th {\n",
       "        text-align: right;\n",
       "    }\n",
       "</style>\n",
       "<table border=\"1\" class=\"dataframe\">\n",
       "  <thead>\n",
       "    <tr style=\"text-align: right;\">\n",
       "      <th></th>\n",
       "      <th>category</th>\n",
       "      <th>id</th>\n",
       "      <th>text</th>\n",
       "      <th>char_len</th>\n",
       "      <th>word_len</th>\n",
       "      <th>pred_topic_num</th>\n",
       "    </tr>\n",
       "  </thead>\n",
       "  <tbody>\n",
       "    <tr>\n",
       "      <th>156</th>\n",
       "      <td>hobbies</td>\n",
       "      <td>ce27</td>\n",
       "      <td>Knowing specifically what the many feed additi...</td>\n",
       "      <td>12565</td>\n",
       "      <td>2323</td>\n",
       "      <td>2</td>\n",
       "    </tr>\n",
       "    <tr>\n",
       "      <th>157</th>\n",
       "      <td>hobbies</td>\n",
       "      <td>ce28</td>\n",
       "      <td>Marketing in the new decade will be no picnic ...</td>\n",
       "      <td>13290</td>\n",
       "      <td>2291</td>\n",
       "      <td>2</td>\n",
       "    </tr>\n",
       "    <tr>\n",
       "      <th>158</th>\n",
       "      <td>hobbies</td>\n",
       "      <td>ce29</td>\n",
       "      <td>The controversy of the last few years over whe...</td>\n",
       "      <td>12903</td>\n",
       "      <td>2246</td>\n",
       "      <td>2</td>\n",
       "    </tr>\n",
       "    <tr>\n",
       "      <th>159</th>\n",
       "      <td>hobbies</td>\n",
       "      <td>ce30</td>\n",
       "      <td>General How long has it been since you reviewe...</td>\n",
       "      <td>12981</td>\n",
       "      <td>2294</td>\n",
       "      <td>2</td>\n",
       "    </tr>\n",
       "    <tr>\n",
       "      <th>160</th>\n",
       "      <td>hobbies</td>\n",
       "      <td>ce31</td>\n",
       "      <td>The long and ever-increasing column of sportsm...</td>\n",
       "      <td>12845</td>\n",
       "      <td>2247</td>\n",
       "      <td>2</td>\n",
       "    </tr>\n",
       "    <tr>\n",
       "      <th>161</th>\n",
       "      <td>hobbies</td>\n",
       "      <td>ce32</td>\n",
       "      <td>Throughout history , the man who showed superi...</td>\n",
       "      <td>13629</td>\n",
       "      <td>2339</td>\n",
       "      <td>2</td>\n",
       "    </tr>\n",
       "    <tr>\n",
       "      <th>162</th>\n",
       "      <td>hobbies</td>\n",
       "      <td>ce33</td>\n",
       "      <td>Sixty miles north of New York City where the w...</td>\n",
       "      <td>11845</td>\n",
       "      <td>2233</td>\n",
       "      <td>2</td>\n",
       "    </tr>\n",
       "    <tr>\n",
       "      <th>163</th>\n",
       "      <td>hobbies</td>\n",
       "      <td>ce34</td>\n",
       "      <td>In the period since the end of World War 2 , -...</td>\n",
       "      <td>13029</td>\n",
       "      <td>2300</td>\n",
       "      <td>2</td>\n",
       "    </tr>\n",
       "    <tr>\n",
       "      <th>164</th>\n",
       "      <td>hobbies</td>\n",
       "      <td>ce35</td>\n",
       "      <td>New rule no. 2 : : Don't build from the outsid...</td>\n",
       "      <td>11800</td>\n",
       "      <td>2272</td>\n",
       "      <td>2</td>\n",
       "    </tr>\n",
       "    <tr>\n",
       "      <th>165</th>\n",
       "      <td>hobbies</td>\n",
       "      <td>ce36</td>\n",
       "      <td>There comes a time in the lives of most of us ...</td>\n",
       "      <td>11682</td>\n",
       "      <td>2232</td>\n",
       "      <td>2</td>\n",
       "    </tr>\n",
       "  </tbody>\n",
       "</table>\n",
       "</div>"
      ],
      "text/plain": [
       "    category    id                                               text  \\\n",
       "156  hobbies  ce27  Knowing specifically what the many feed additi...   \n",
       "157  hobbies  ce28  Marketing in the new decade will be no picnic ...   \n",
       "158  hobbies  ce29  The controversy of the last few years over whe...   \n",
       "159  hobbies  ce30  General How long has it been since you reviewe...   \n",
       "160  hobbies  ce31  The long and ever-increasing column of sportsm...   \n",
       "161  hobbies  ce32  Throughout history , the man who showed superi...   \n",
       "162  hobbies  ce33  Sixty miles north of New York City where the w...   \n",
       "163  hobbies  ce34  In the period since the end of World War 2 , -...   \n",
       "164  hobbies  ce35  New rule no. 2 : : Don't build from the outsid...   \n",
       "165  hobbies  ce36  There comes a time in the lives of most of us ...   \n",
       "\n",
       "     char_len  word_len  pred_topic_num  \n",
       "156     12565      2323               2  \n",
       "157     13290      2291               2  \n",
       "158     12903      2246               2  \n",
       "159     12981      2294               2  \n",
       "160     12845      2247               2  \n",
       "161     13629      2339               2  \n",
       "162     11845      2233               2  \n",
       "163     13029      2300               2  \n",
       "164     11800      2272               2  \n",
       "165     11682      2232               2  "
      ]
     },
     "execution_count": 72,
     "metadata": {},
     "output_type": "execute_result"
    }
   ],
   "source": [
    "# Add to the df\n",
    "df['pred_topic_num'] = pred_topics\n",
    "df.tail(10)"
   ]
  },
  {
   "cell_type": "code",
   "execution_count": 73,
   "id": "e0c31ab3",
   "metadata": {},
   "outputs": [
    {
     "data": {
      "text/plain": [
       "<matplotlib.legend.Legend at 0x2df79bc0340>"
      ]
     },
     "execution_count": 73,
     "metadata": {},
     "output_type": "execute_result"
    },
    {
     "data": {
      "image/png": "[encoded data removed]",
      "text/plain": [
       "<Figure size 432x288 with 1 Axes>"
      ]
     },
     "metadata": {
      "needs_background": "light"
     },
     "output_type": "display_data"
    }
   ],
   "source": [
    "df.groupby(['category', 'pred_topic_num']).size().unstack().plot(kind='bar', stacked=True, rot=0).legend(loc='best')\n",
    "#This fast stacked bar courtesy of:\n",
    "#https://stackoverflow.com/questions/34917727/stacked-bar-plot-by-grouped-data-with-pandas"
   ]
  },
  {
   "cell_type": "markdown",
   "id": "f8d4e2bc",
   "metadata": {},
   "source": [
    "Q: How does your five-topic NMF model compare to the original Brown categories? \n",
    "\n",
    "A: Overall, the results are explainable, and the topic areas appear to overlap somewhat with the Brown topics.\n",
    "\n",
    "Topic 0 seems very \"news\" oriented. Mostly assigned to \"editorial\", and the next biggest bunch to \"news\".\n",
    "\n",
    "Topic 1 is pretty generic.  Assigned mainly to \"romance\"\n",
    "\n",
    "Topic 2 seems related to governmnet, states, etc.  Most of the \"government\" articles got this assignmnet, but still lots of spillover of topic 2 into \"hobbies\" and \"news\".  This topic had the most overlap, and the relationship to \"hobbies\" is hard to discern.\n",
    "\n",
    "Topic 3 has Mr., Mrs. Ms. at the top.  Many news articles refer formally to people so this is not surprising.\n",
    "\n",
    "Topic 4 is all about sports.  Again, mostly included in the \"news\" articles.  About 1/4 of news in the old days was sports driven."
   ]
  },
  {
   "cell_type": "markdown",
   "id": "82e37cb5",
   "metadata": {},
   "source": [
    "## Fitting an LSA Model\n",
    "\n",
    "In this section, follow the example from the repository and fit an LSA model (called a \"TruncatedSVD\" in `sklearn`). Again fit a five-topic model and compare it to the actual categories in the Brown corpus. Use the TF-IDF vectors for your fit, as above. \n",
    "\n",
    "To be explicit, we are once again interested in the extent to which this LSA factorization agrees or disagrees with the original categories in the corpus. For each topic in your model, tally the Brown categories and interpret the results. \n"
   ]
  },
  {
   "cell_type": "code",
   "execution_count": 74,
   "id": "856dab56",
   "metadata": {},
   "outputs": [],
   "source": [
    "from sklearn.decomposition import TruncatedSVD\n",
    "\n",
    "svd_text_model = TruncatedSVD(n_components = 5, random_state=42)\n",
    "W_svd_text_matrix = svd_text_model.fit_transform(tfidf_text_vectors)\n",
    "H_svd_text_matrix = svd_text_model.components_"
   ]
  },
  {
   "cell_type": "markdown",
   "id": "e74d8f51",
   "metadata": {},
   "source": [
    "### Relative Sizes of the Topics"
   ]
  },
  {
   "cell_type": "code",
   "execution_count": 75,
   "id": "06baa250",
   "metadata": {
    "scrolled": true
   },
   "outputs": [
    {
     "data": {
      "text/plain": [
       "array([3.69734343, 2.24163352, 1.69712548, 1.66355215, 1.56267787])"
      ]
     },
     "execution_count": 75,
     "metadata": {},
     "output_type": "execute_result"
    }
   ],
   "source": [
    "svd_text_model.singular_values_"
   ]
  },
  {
   "cell_type": "code",
   "execution_count": 76,
   "id": "7083bd1c",
   "metadata": {},
   "outputs": [
    {
     "name": "stdout",
     "output_type": "stream",
     "text": [
      "\n",
      "Topic 00\n",
      "  said (0.44)\n",
      "  mr (0.25)\n",
      "  mrs (0.22)\n",
      "  state (0.20)\n",
      "  man (0.17)\n",
      "\n",
      "Topic 01\n",
      "  said (4.32)\n",
      "  didn (2.89)\n",
      "  thought (2.43)\n",
      "  mrs (2.18)\n",
      "  got (2.16)\n",
      "\n",
      "Topic 02\n",
      "  mrs (3.11)\n",
      "  mr (1.72)\n",
      "  said (1.02)\n",
      "  kennedy (0.80)\n",
      "  president (0.77)\n",
      "\n",
      "Topic 03\n",
      "  mrs (27.75)\n",
      "  club (6.23)\n",
      "  game (6.17)\n",
      "  jr (5.32)\n",
      "  dallas (5.10)\n",
      "\n",
      "Topic 04\n",
      "  game (4.45)\n",
      "  league (3.16)\n",
      "  baseball (3.13)\n",
      "  ball (3.03)\n",
      "  team (2.88)\n"
     ]
    }
   ],
   "source": [
    "# call display_topics on your model\n",
    "display_topics(svd_text_model, tfidf_text_vectorizer.get_feature_names_out())"
   ]
  },
  {
   "cell_type": "code",
   "execution_count": 77,
   "id": "8a0bde7f",
   "metadata": {},
   "outputs": [
    {
     "data": {
      "text/plain": [
       "array([[ 0.39115169, -0.24737234, -0.01756635, -0.0556066 , -0.00310002],\n",
       "       [ 0.36463326, -0.234189  ,  0.20550987, -0.26883501,  0.1538794 ],\n",
       "       [ 0.37909785, -0.13375835,  0.15135919, -0.21261316,  0.09417838],\n",
       "       [ 0.38083049, -0.22871365,  0.10516468, -0.17244089,  0.08051759],\n",
       "       [ 0.36099295, -0.20911359,  0.04006986, -0.08537837,  0.01840441]])"
      ]
     },
     "execution_count": 77,
     "metadata": {},
     "output_type": "execute_result"
    }
   ],
   "source": [
    "# Transform the new data with the fitted models\n",
    "svd_X_vecs = svd_text_model.transform(tfidf_text_vectors)\n",
    "#\n",
    "#\n",
    "#PROBLEM HERE?  Why is the model predicting so many Topic 00?\n",
    "#\n",
    "# Compare with the original X processing (they're the same)\n",
    "#svd_X_vecs\n",
    "W_svd_text_matrix[0:5]"
   ]
  },
  {
   "cell_type": "code",
   "execution_count": 78,
   "id": "c4d540c9",
   "metadata": {},
   "outputs": [],
   "source": [
    "# Get the top predicted topic\n",
    "svd_predicted_topics = [np.argsort(each)[::-1][0] for each in svd_X_vecs]\n",
    "#SVD_predicted_topics = [np.argsort(abs(each))[::-1][0] for each in SVD_X_new]"
   ]
  },
  {
   "cell_type": "code",
   "execution_count": 79,
   "id": "e8d8372d",
   "metadata": {},
   "outputs": [
    {
     "data": {
      "text/html": [
       "<div>\n",
       "<style scoped>\n",
       "    .dataframe tbody tr th:only-of-type {\n",
       "        vertical-align: middle;\n",
       "    }\n",
       "\n",
       "    .dataframe tbody tr th {\n",
       "        vertical-align: top;\n",
       "    }\n",
       "\n",
       "    .dataframe thead th {\n",
       "        text-align: right;\n",
       "    }\n",
       "</style>\n",
       "<table border=\"1\" class=\"dataframe\">\n",
       "  <thead>\n",
       "    <tr style=\"text-align: right;\">\n",
       "      <th></th>\n",
       "      <th>category</th>\n",
       "      <th>id</th>\n",
       "      <th>text</th>\n",
       "      <th>char_len</th>\n",
       "      <th>word_len</th>\n",
       "      <th>pred_topic_num</th>\n",
       "      <th>svd_pred_topic_num</th>\n",
       "    </tr>\n",
       "  </thead>\n",
       "  <tbody>\n",
       "    <tr>\n",
       "      <th>161</th>\n",
       "      <td>hobbies</td>\n",
       "      <td>ce32</td>\n",
       "      <td>Throughout history , the man who showed superi...</td>\n",
       "      <td>13629</td>\n",
       "      <td>2339</td>\n",
       "      <td>2</td>\n",
       "      <td>0</td>\n",
       "    </tr>\n",
       "    <tr>\n",
       "      <th>162</th>\n",
       "      <td>hobbies</td>\n",
       "      <td>ce33</td>\n",
       "      <td>Sixty miles north of New York City where the w...</td>\n",
       "      <td>11845</td>\n",
       "      <td>2233</td>\n",
       "      <td>2</td>\n",
       "      <td>0</td>\n",
       "    </tr>\n",
       "    <tr>\n",
       "      <th>163</th>\n",
       "      <td>hobbies</td>\n",
       "      <td>ce34</td>\n",
       "      <td>In the period since the end of World War 2 , -...</td>\n",
       "      <td>13029</td>\n",
       "      <td>2300</td>\n",
       "      <td>2</td>\n",
       "      <td>0</td>\n",
       "    </tr>\n",
       "    <tr>\n",
       "      <th>164</th>\n",
       "      <td>hobbies</td>\n",
       "      <td>ce35</td>\n",
       "      <td>New rule no. 2 : : Don't build from the outsid...</td>\n",
       "      <td>11800</td>\n",
       "      <td>2272</td>\n",
       "      <td>2</td>\n",
       "      <td>0</td>\n",
       "    </tr>\n",
       "    <tr>\n",
       "      <th>165</th>\n",
       "      <td>hobbies</td>\n",
       "      <td>ce36</td>\n",
       "      <td>There comes a time in the lives of most of us ...</td>\n",
       "      <td>11682</td>\n",
       "      <td>2232</td>\n",
       "      <td>2</td>\n",
       "      <td>0</td>\n",
       "    </tr>\n",
       "  </tbody>\n",
       "</table>\n",
       "</div>"
      ],
      "text/plain": [
       "    category    id                                               text  \\\n",
       "161  hobbies  ce32  Throughout history , the man who showed superi...   \n",
       "162  hobbies  ce33  Sixty miles north of New York City where the w...   \n",
       "163  hobbies  ce34  In the period since the end of World War 2 , -...   \n",
       "164  hobbies  ce35  New rule no. 2 : : Don't build from the outsid...   \n",
       "165  hobbies  ce36  There comes a time in the lives of most of us ...   \n",
       "\n",
       "     char_len  word_len  pred_topic_num  svd_pred_topic_num  \n",
       "161     13629      2339               2                   0  \n",
       "162     11845      2233               2                   0  \n",
       "163     13029      2300               2                   0  \n",
       "164     11800      2272               2                   0  \n",
       "165     11682      2232               2                   0  "
      ]
     },
     "execution_count": 79,
     "metadata": {},
     "output_type": "execute_result"
    }
   ],
   "source": [
    "# Add to the df\n",
    "df['svd_pred_topic_num'] = svd_predicted_topics\n",
    "df.tail(5)"
   ]
  },
  {
   "cell_type": "code",
   "execution_count": 80,
   "id": "38aa1df3",
   "metadata": {},
   "outputs": [
    {
     "data": {
      "text/plain": [
       "<matplotlib.legend.Legend at 0x2df79bc0490>"
      ]
     },
     "execution_count": 80,
     "metadata": {},
     "output_type": "execute_result"
    },
    {
     "data": {
      "image/png": "[encoded data removed]",
      "text/plain": [
       "<Figure size 432x288 with 1 Axes>"
      ]
     },
     "metadata": {
      "needs_background": "light"
     },
     "output_type": "display_data"
    }
   ],
   "source": [
    "df.groupby(['category', 'svd_pred_topic_num']).size().unstack().plot(kind='bar', stacked=True, rot=0).legend(loc='best')\n",
    "#This fast stacked bar courtesy of:\n",
    "#https://stackoverflow.com/questions/34917727/stacked-bar-plot-by-grouped-data-with-pandas"
   ]
  },
  {
   "cell_type": "raw",
   "id": "25a7df00",
   "metadata": {},
   "source": [
    "Q: How does your five-topic LSA model compare to the original Brown categories? \n",
    "\n",
    "A: There is far less concordance of these topics with the Brown topics.  Topics 0-2 are pretty generic.  Topic 3 has a couple of sports terms and topic 4 seems very sports oriented but failed to capture any of the hobbies articles!  Overall, one cannot map these topics to the Brown topics as we could for NME."
   ]
  },
  {
   "cell_type": "markdown",
   "id": "ea8b280a",
   "metadata": {},
   "source": [
    "Q: What is your interpretation of the display topics output? \n",
    "\n",
    "A: There are some discernable differences in the topics, but only topic 4 is different in a pronounced way, containing sports items.  Many of the topics contain the same tokens, especially \"mr\", \"mrs\", and \"said\".  Looking at performance, this model creates topics that are not representaive of the Brown topics, as well as failing to capture much, if any, of the differences between the topics.  Interesting result since the textbook application of LSA obtained a very similar result to NME, and both techniques are derived from linear algebra decomposition of the orginal document matrix."
   ]
  },
  {
   "cell_type": "markdown",
   "id": "b4ab4d29",
   "metadata": {},
   "source": [
    "## Fitting an LDA Model\n",
    "\n",
    "Finally, fit a five-topic LDA model using the count vectors (`count_text_vectors` from above). Display the results using `pyLDAvis.display` and describe what you learn from that visualization. "
   ]
  },
  {
   "cell_type": "code",
   "execution_count": 81,
   "id": "802cb8ff",
   "metadata": {},
   "outputs": [],
   "source": [
    "# Fit your LDA model here\n",
    "lda_text_model = LatentDirichletAllocation(n_components = 5, random_state=42)\n",
    "W_lda_text_matrix = lda_text_model.fit_transform(count_text_vectors)\n",
    "H_lda_text_matrix = lda_text_model.components_"
   ]
  },
  {
   "cell_type": "code",
   "execution_count": 82,
   "id": "ab18adf5",
   "metadata": {},
   "outputs": [
    {
     "name": "stdout",
     "output_type": "stream",
     "text": [
      "\n",
      "Topic 00\n",
      "  house (0.69)\n",
      "  clay (0.60)\n",
      "  shelter (0.47)\n",
      "  inch (0.46)\n",
      "  cut (0.45)\n",
      "\n",
      "Topic 01\n",
      "  said (1.24)\n",
      "  man (0.58)\n",
      "  old (0.55)\n",
      "  little (0.54)\n",
      "  good (0.49)\n",
      "\n",
      "Topic 02\n",
      "  feed (1.07)\n",
      "  af (0.74)\n",
      "  pool (0.55)\n",
      "  head (0.45)\n",
      "  high (0.43)\n",
      "\n",
      "Topic 03\n",
      "  state (0.83)\n",
      "  states (0.59)\n",
      "  united (0.53)\n",
      "  government (0.49)\n",
      "  000 (0.41)\n",
      "\n",
      "Topic 04\n",
      "  mrs (1.51)\n",
      "  said (1.06)\n",
      "  mr (0.84)\n",
      "  home (0.67)\n",
      "  week (0.51)\n"
     ]
    }
   ],
   "source": [
    "# Call `display_topics` on your fitted model here\n",
    "display_topics(lda_text_model, count_text_vectorizer.get_feature_names_out())"
   ]
  },
  {
   "cell_type": "markdown",
   "id": "f2c67876",
   "metadata": {},
   "source": [
    "Q: What inference do you draw from the displayed topics for your LDA model? \n",
    "\n",
    "A: These topics appear less differentiated than the NME topics but better than the LSA topics.  One can see some similarlity in topic 0 (\"building\" or \"hobbies\"), topic 2 (af, pool, feed = \"hobbies\"?), topic 03 (\"governement\"?), and topic 4 (mr and mrs indicating \"news\" perhaps).  Topic 1 is generic but, as seen below, largely represents the \"romance\" category from Brown."
   ]
  },
  {
   "cell_type": "code",
   "execution_count": 83,
   "id": "b44ff5f8",
   "metadata": {},
   "outputs": [
    {
     "data": {
      "text/plain": [
       "<matplotlib.legend.Legend at 0x2df075a07c0>"
      ]
     },
     "execution_count": 83,
     "metadata": {},
     "output_type": "execute_result"
    },
    {
     "data": {
      "image/png": "[encoded data removed]",
      "text/plain": [
       "<Figure size 432x288 with 1 Axes>"
      ]
     },
     "metadata": {
      "needs_background": "light"
     },
     "output_type": "display_data"
    }
   ],
   "source": [
    "# Transform the new data with the fitted models\n",
    "lda_X_vecs = lda_text_model.transform(tfidf_text_vectors)\n",
    "\n",
    "# Get the top predicted topic\n",
    "lda_pred_topics = [np.argsort(each)[::-1][0] for each in lda_X_vecs]\n",
    "\n",
    "# Add to the df\n",
    "df['lda_pred_topic_num'] = lda_pred_topics\n",
    "df.head(5)\n",
    "\n",
    "df.groupby(['category', 'lda_pred_topic_num']).size().unstack().plot(kind='bar', stacked=True, rot=0).legend(loc='best')\n",
    "#This fast stacked bar courtesy of:\n",
    "#https://stackoverflow.com/questions/34917727/stacked-bar-plot-by-grouped-data-with-pandas"
   ]
  },
  {
   "cell_type": "markdown",
   "id": "812413cb",
   "metadata": {},
   "source": [
    "Q: Repeat the tallying of Brown categories within your topics. How does your five-topic LDA model compare to the original Brown categories? \n",
    "\n",
    "A: Overall, the results are explainable and overlapping as for NME, but the topic areas are different.  There is no sports-oriented topic.  And instead of 2 fairly distinct topics for news and government topics, there was only one. There also seemed to be a topic that captured \"hobbies\" a bit better than NME.\n",
    "\n",
    "Topic 0 seems about houses, building, shelter. Mostly assigned to \"hobbies\" which seems plausible.\n",
    "\n",
    "Topic 1 is fairly generic but novelesque.  Assigned mainly to \"romance\" and \"hobbies\".  Makes sense.\n",
    "\n",
    "Topic 2 is a bit of a hodgepodge.  Also mostly in the \"hobbies\" category.\n",
    "\n",
    "Topic 3 is the newsy topic, and unsurprisingly comprise most of the \"news\", \"government\", and \"editorial\" articles.\n",
    "\n",
    "Topic 4 has Mr. and Mrs. as did NME.  Again, mostly included in the \"news\" articles."
   ]
  },
  {
   "cell_type": "code",
   "execution_count": 84,
   "id": "6aae75ca",
   "metadata": {
    "scrolled": true
   },
   "outputs": [
    {
     "name": "stderr",
     "output_type": "stream",
     "text": [
      "C:\\Users\\drzag\\anaconda3\\lib\\site-packages\\sklearn\\utils\\deprecation.py:87: FutureWarning: Function get_feature_names is deprecated; get_feature_names is deprecated in 1.0 and will be removed in 1.2. Please use get_feature_names_out instead.\n",
      "  warnings.warn(msg, category=FutureWarning)\n",
      "C:\\Users\\drzag\\anaconda3\\lib\\site-packages\\pyLDAvis\\_prepare.py:246: FutureWarning: In a future version of pandas all arguments of DataFrame.drop except for the argument 'labels' will be keyword-only.\n",
      "  default_term_info = default_term_info.sort_values(\n"
     ]
    }
   ],
   "source": [
    "lda_display = pyLDAvis.sklearn.prepare(lda_text_model, count_text_vectors, count_text_vectorizer, sort_topics=False)"
   ]
  },
  {
   "cell_type": "code",
   "execution_count": 85,
   "id": "2a89fc15",
   "metadata": {},
   "outputs": [
    {
     "data": {
      "text/html": [
       "\n",
       "<link rel=\"stylesheet\" type=\"text/css\" href=\"https://cdn.jsdelivr.net/gh/bmabey/pyLDAvis@3.3.1/pyLDAvis/js/ldavis.v1.0.0.css\">\n",
       "\n",
       "\n",
       "<div id=\"ldavis_el856431568679313761720072178\"></div>\n",
       "<script type=\"text/javascript\">\n",
       "\n",
       "var ldavis_el856431568679313761720072178_data = {\"mdsDat\": {\"x\": [-0.0033746414048802325, 0.15086294464826336, -0.1565132877112066, -0.1132436684058516, 0.12226865287367517], \"y\": [-0.1041964708408503, -0.06579992155617281, -0.07470734010627986, 0.1360317064076686, 0.10867202609563421], \"topics\": [1, 2, 3, 4, 5], \"cluster\": [1, 1, 1, 1, 1], \"Freq\": [9.163495823321949, 25.751497750815407, 6.44094294190172, 44.776433641902855, 13.867629842058063]}, \"tinfo\": {\"Term\": [\"mrs\", \"said\", \"feed\", \"mr\", \"house\", \"home\", \"president\", \"state\", \"af\", \"pool\", \"clay\", \"states\", \"club\", \"united\", \"development\", \"government\", \"old\", \"man\", \"head\", \"use\", \"game\", \"high\", \"good\", \"didn\", \"tax\", \"shelter\", \"little\", \"week\", \"inch\", \"way\", \"shelter\", \"roof\", \"blocks\", \"thickness\", \"cream\", \"builder\", \"erected\", \"underground\", \"senators\", \"stove\", \"meat\", \"clay\", \"fallout\", \"salt\", \"ballet\", \"concrete\", \"cooled\", \"heating\", \"lumber\", \"cooling\", \"seats\", \"outdoors\", \"polished\", \"pipes\", \"160\", \"frames\", \"radiation\", \"heater\", \"slip\", \"gallery\", \"inch\", \"36\", \"builders\", \"sugar\", \"wooden\", \"vernon\", \"heat\", \"trim\", \"installed\", \"cut\", \"oil\", \"republican\", \"house\", \"pieces\", \"gas\", \"piece\", \"wall\", \"press\", \"place\", \"inside\", \"good\", \"water\", \"build\", \"use\", \"best\", \"outside\", \"half\", \"president\", \"don\", \"air\", \"way\", \"set\", \"30\", \"home\", \"work\", \"000\", \"kennedy\", \"said\", \"wasn\", \"sat\", \"pale\", \"smiled\", \"love\", \"painting\", \"sounds\", \"listening\", \"loved\", \"remembered\", \"sky\", \"couldn\", \"eyes\", \"hell\", \"imagine\", \"jesus\", \"voice\", \"god\", \"stared\", \"liked\", \"sight\", \"hair\", \"moments\", \"innocent\", \"speak\", \"wondered\", \"tone\", \"pope\", \"laughed\", \"looked\", \"didn\", \"stood\", \"alexander\", \"thought\", \"mother\", \"wouldn\", \"isn\", \"beautiful\", \"yes\", \"hadn\", \"knew\", \"door\", \"girls\", \"went\", \"know\", \"woman\", \"father\", \"little\", \"bridge\", \"black\", \"old\", \"let\", \"man\", \"life\", \"young\", \"think\", \"got\", \"felt\", \"come\", \"said\", \"thing\", \"away\", \"look\", \"came\", \"don\", \"good\", \"way\", \"left\", \"going\", \"people\", \"right\", \"took\", \"day\", \"great\", \"course\", \"feed\", \"drill\", \"apparatus\", \"experiments\", \"measurement\", \"measurements\", \"af\", \"bars\", \"screw\", \"lever\", \"cattle\", \"precise\", \"parallel\", \"chemical\", \"precision\", \"muscles\", \"shipping\", \"blades\", \"accuracy\", \"surfaces\", \"super\", \"push\", \"flexibility\", \"signs\", \"muscle\", \"leg\", \"frame\", \"clarity\", \"dancer\", \"exercise\", \"textile\", \"technique\", \"bar\", \"pool\", \"volume\", \"plastic\", \"tool\", \"sign\", \"panels\", \"weight\", \"daily\", \"temperature\", \"pressure\", \"signal\", \"head\", \"applied\", \"high\", \"dog\", \"12\", \"large\", \"brown\", \"junior\", \"class\", \"line\", \"work\", \"10\", \"possible\", \"position\", \"use\", \"world\", \"number\", \"mr\", \"tax\", \"congress\", \"aircraft\", \"rayburn\", \"fiscal\", \"congo\", \"marketing\", \"payment\", \"bank\", \"economy\", \"department\", \"missile\", \"motors\", \"attorney\", \"shares\", \"payments\", \"election\", \"political\", \"administrative\", \"institutions\", \"services\", \"loans\", \"workers\", \"organization\", \"loan\", \"authorized\", \"justice\", \"citizens\", \"representatives\", \"financing\", \"government\", \"administration\", \"states\", \"united\", \"nuclear\", \"agency\", \"million\", \"property\", \"rhode\", \"technical\", \"providence\", \"state\", \"act\", \"shall\", \"report\", \"federal\", \"development\", \"program\", \"secretary\", \"policy\", \"corps\", \"agreement\", \"public\", \"military\", \"sales\", \"general\", \"income\", \"000\", \"county\", \"business\", \"service\", \"american\", \"peace\", \"local\", \"1960\", \"national\", \"president\", \"system\", \"company\", \"board\", \"use\", \"mr\", \"said\", \"city\", \"people\", \"world\", \"yankees\", \"players\", \"yards\", \"robinson\", \"lee\", \"orchestra\", \"coach\", \"viet\", \"missouri\", \"pitcher\", \"dave\", \"pitching\", \"oct\", \"stadium\", \"ruth\", \"homer\", \"nam\", \"ex\", \"willie\", \"al\", \"ball\", \"anderson\", \"baseball\", \"johnny\", \"roger\", \"jane\", \"deadlock\", \"ann\", \"football\", \"hollywood\", \"golf\", \"mrs\", \"laos\", \"playing\", \"stations\", \"team\", \"player\", \"game\", \"club\", \"runs\", \"league\", \"st\", \"season\", \"jr\", \"friday\", \"play\", \"hit\", \"chairman\", \"monday\", \"home\", \"saturday\", \"mr\", \"week\", \"class\", \"meeting\", \"said\", \"sunday\", \"miss\", \"night\", \"judge\", \"kennedy\", \"president\", \"john\", \"school\", \"york\", \"city\", \"run\", \"day\", \"national\"], \"Freq\": [302.0, 791.0, 91.0, 387.0, 224.0, 262.0, 295.0, 500.0, 70.0, 75.0, 75.0, 343.0, 110.0, 309.0, 205.0, 283.0, 250.0, 279.0, 131.0, 254.0, 89.0, 216.0, 302.0, 123.0, 182.0, 54.0, 235.0, 186.0, 63.0, 270.0, 53.64565418539573, 26.469442362623592, 18.580266691392083, 12.441281957072228, 10.691617784664656, 21.159885169638617, 10.563458628899351, 8.9337239478137, 8.913223112964797, 8.034754514743753, 19.278399096888304, 68.13207068075218, 25.390614120121807, 15.621540149226886, 19.430230806955723, 19.414423339189987, 5.424182764192386, 17.70677167400283, 23.83269803609966, 29.853716236628095, 6.866044204724485, 4.552898394654371, 4.552191491328773, 4.550093617001771, 4.541641126281437, 16.4830677703921, 27.668976551203016, 8.90227653559078, 8.82824912790228, 16.918117742159673, 52.249572125694215, 21.905809921050285, 16.706375586261007, 10.949044009190777, 17.635764713739917, 14.954991638118724, 27.596545553805072, 11.345406014065157, 15.256424330567272, 50.91357162787028, 24.301172027958284, 23.33972925873424, 78.45553053629457, 26.66063696970075, 19.65704914639343, 28.021155187121003, 28.383118233295097, 25.07415128299273, 41.96809638597722, 23.23284622368722, 46.20737203241788, 36.352428538091374, 23.911364407573284, 41.67811534264712, 32.62468278423364, 26.075571240894938, 29.85848787061388, 38.06523298609722, 32.792716882652485, 28.444820972240496, 36.26296312734809, 30.906290690780533, 28.21707916211254, 30.228688001989184, 29.560654061326186, 28.366677629011395, 26.490615437603946, 26.556193114462218, 57.1272690561894, 36.92319047975665, 26.292486459086668, 26.291905140909105, 58.02568937439089, 21.454589064229975, 19.517212275530856, 18.554463625270255, 17.59212349465309, 18.493785007002884, 16.613733043115936, 50.83253229825042, 93.09620243603493, 15.656731712912501, 15.655203496208593, 15.653440697558045, 47.02341144792833, 59.77543381711877, 14.690396350353598, 14.68965409205055, 14.68387592820139, 33.967865847567104, 15.583527304474803, 14.670267518576294, 22.01835782846093, 13.722415550728385, 13.717266243863468, 19.170037357798268, 12.758577502825409, 80.0395592384919, 116.17744366858867, 44.785941499781565, 23.467205848888565, 122.33872139014754, 85.79906549209574, 38.186021819478015, 39.75441091682051, 45.10212071401801, 36.78909475961244, 29.370682905488767, 77.1427603409659, 59.54590409272241, 36.25413407572399, 110.70610324937536, 149.9454901878279, 48.14171155704574, 53.40290037985242, 171.9951626942151, 44.91043517751184, 53.66306347986053, 177.18415730940305, 93.19189098627498, 186.7057180528069, 116.73947531542402, 100.40394664410489, 99.01273054789111, 106.27914125981702, 72.04704221924787, 125.22848255132047, 396.4278420089158, 73.9333446865463, 88.70746954108513, 92.21798158101889, 108.27060581886795, 113.64867251966831, 157.98101155849935, 145.86714588725457, 101.90402573997252, 87.21093047680733, 123.37175151771974, 107.29353618175104, 81.20786105878551, 119.53201591731671, 93.32140417142509, 81.08803175352928, 85.7694565085829, 29.288285943918368, 9.193317251139538, 12.466035110764192, 9.902621892649973, 10.582960432386828, 58.94944894761401, 23.59113280574408, 13.570664678294122, 12.805456556411992, 16.3036101079677, 6.35683460071614, 8.481392736434554, 20.69931938930055, 16.901177909105787, 9.048934346771341, 11.786765489404093, 5.4145751614267175, 12.786803029930292, 4.687542248419487, 12.737523958699915, 19.670735563669375, 7.650141186231364, 24.136484445352, 11.879429757414712, 18.656695070939676, 24.483404875219282, 6.210076421505894, 6.195994705829084, 18.03635061687506, 18.507946942681603, 9.58756016613898, 26.966297507221917, 44.05788645052105, 25.928760342360906, 15.521514336252553, 17.993664570135294, 29.82585348335722, 18.905828392362878, 23.472882535887003, 25.063145594655893, 18.404924166674732, 26.385407015604777, 16.314701983185046, 35.71618743687987, 16.69280687386642, 34.32827777855169, 18.755466238586067, 23.376388937125817, 26.410259006587474, 23.065716377824398, 20.333929900669872, 22.139254982579246, 21.41137711210011, 25.116449565268343, 22.562361080127346, 21.776704387999676, 20.633110324018165, 22.753371506786895, 22.272830286140533, 21.18642805683916, 19.741400976260167, 181.72621829547217, 86.94137687213097, 57.51735596004315, 46.640814833133454, 112.65029505710004, 43.67993063986598, 42.69454513552873, 42.69285786944134, 41.70285491145644, 41.70247968147895, 158.9871340058353, 40.70948154442275, 46.49292749240147, 39.695266167220744, 37.74878510589701, 41.61507114066563, 55.067083156415045, 83.01360308133964, 32.80954480585863, 32.808971405165416, 95.5360026235979, 31.821652876762833, 34.70664128572633, 73.30705419111729, 33.74148350344401, 30.83401978704978, 30.83089063748455, 38.53663462741181, 30.80865452366847, 29.84313564764006, 273.48195336401176, 131.77019051725338, 328.7529188252664, 296.7491112507499, 77.5716938085784, 40.440345307703105, 127.7517132582772, 94.90002785425565, 85.47583116055034, 58.47325140905519, 45.13582361431379, 462.9058617799561, 128.63415098980886, 124.8152256208984, 88.03039095057373, 111.44566299973634, 191.21111151750335, 219.55542319953972, 118.47580859053184, 92.37647513308018, 74.91553794950791, 65.74398119463771, 187.69866864658573, 117.0824603064242, 113.00512466648371, 183.1567435683627, 80.6272360844818, 228.80853583755217, 97.21483363259011, 172.79017539388022, 160.32428535187717, 173.19545210392621, 99.43360969653658, 110.22820661960345, 110.17428748637798, 148.97072111323004, 172.30851974952137, 114.816536171252, 112.90996353650043, 123.45909200285632, 144.02895440577163, 156.47506005397952, 186.19964495185727, 125.57683219193986, 127.73044546218453, 126.48395528325511, 25.171990991555038, 24.2074721513448, 26.03914795332971, 18.437623553989408, 17.478405209936906, 20.17350688459609, 21.93443652014483, 14.599127144524033, 14.598741543191247, 14.597632770325953, 18.204603061902056, 13.64105497773906, 15.418597744772516, 12.68229378821014, 12.681459264082738, 12.679154776383395, 12.677589283701177, 12.676137863349549, 12.621134729238978, 11.719418687425744, 58.32429307689007, 10.719055889933392, 36.55153286472797, 9.797810990241368, 8.836132016405235, 8.836157075451732, 8.829864066088616, 8.826635741516014, 23.803269698783414, 8.784307845042633, 24.369254864203967, 260.43949710944446, 43.69846001940507, 34.498549962331005, 51.357782897003965, 48.47220530376497, 40.77106616324475, 72.49026355202358, 87.53926328480075, 34.22635894075541, 46.664524517391165, 57.249482588689006, 50.77088416474153, 49.40045381367553, 37.39168400491858, 48.082836908505136, 42.18979729443773, 41.965786248171895, 44.38518184233391, 115.01938317181929, 33.34297556429544, 145.02804083838117, 88.05568526488742, 54.17942070397128, 53.01520614820758, 182.5562946119842, 44.19476694054941, 51.17140267661274, 61.96538979676056, 35.15102865014076, 53.583400791315775, 76.4181241401005, 58.53659898846961, 56.75790010638873, 50.78875718022705, 52.23579438235676, 46.18604176312246, 51.68584030799409, 44.278063668431926], \"Total\": [302.0, 791.0, 91.0, 387.0, 224.0, 262.0, 295.0, 500.0, 70.0, 75.0, 75.0, 343.0, 110.0, 309.0, 205.0, 283.0, 250.0, 279.0, 131.0, 254.0, 89.0, 216.0, 302.0, 123.0, 182.0, 54.0, 235.0, 186.0, 63.0, 270.0, 54.41103147446067, 27.236966623935505, 19.34766566421072, 13.211445860794932, 11.458284002394864, 22.88138030732927, 11.471435109206224, 9.705621143115067, 9.708121688568182, 8.831259993183075, 21.209309968521975, 75.03701150575462, 28.301483530380636, 17.643954462591285, 22.031742676836153, 22.150934092952447, 6.199559788709188, 20.275524136595628, 27.507917201737115, 34.64395623947595, 7.99229866250375, 5.3224501208159705, 5.322458006042476, 5.322362184615189, 5.323589438476089, 19.549986836496466, 33.01398282829154, 10.697684419329832, 10.676833247948906, 20.475775299503916, 63.26910125376408, 26.660647098553284, 20.574686580886663, 13.385418277537536, 22.3446401519653, 18.73505885253772, 39.36444569149538, 14.28429545529548, 20.55327486713814, 91.79531357610239, 38.24288940140673, 37.40618093576987, 224.72117326706532, 49.374575753282684, 31.369091272651495, 56.89695017076659, 63.597724831411234, 53.291843135324896, 186.38395020636136, 46.96874727687889, 302.84283031479964, 160.3855288340288, 52.873439983270444, 254.3385820756448, 135.78226216925614, 69.28257124972268, 117.21112076065336, 295.16886002071635, 173.4062195297894, 99.71644036631582, 270.44936215401185, 165.4280588564031, 113.92819592626901, 262.7953780953204, 257.5349725718737, 284.86382519980094, 127.90701570421717, 791.9210838292405, 57.96623830085766, 37.67239058121762, 27.039006109172455, 27.03906834474161, 59.89477865678635, 22.205438810678732, 20.272093294038562, 19.305408673062466, 18.339026399733445, 19.30018530957918, 17.372229195792777, 53.16570102896317, 97.46621508134815, 16.405531470640284, 16.405555397599812, 16.405778560792864, 49.30552309122716, 62.812995558900404, 15.438905940329361, 15.438882468661566, 15.43872496753792, 35.73272367004353, 16.39931532750212, 15.439291742282233, 23.181238928626335, 14.472136769019244, 14.471918169190527, 20.28030568319666, 13.505585059390752, 84.98322860513447, 123.66561609673047, 48.21816795225108, 25.12099945382634, 139.09777309603496, 96.52014840345093, 41.594309896738466, 43.45428302404392, 49.95540311464884, 40.46660406974578, 31.861703925281816, 89.89211178784834, 68.93770437343295, 40.29631783317828, 136.00795703696866, 190.07684791880632, 54.94122258060486, 62.73751449022255, 235.00792262645248, 51.730209000066324, 63.40950730614564, 250.33669708719708, 120.63047880366727, 279.69468883972485, 160.80943479796574, 135.19138833232358, 133.04093507200105, 145.45070997504743, 91.18360945859854, 183.68117258879485, 791.9210838292405, 95.0643615604418, 121.82324190763137, 128.39512184806867, 161.11609451509574, 173.4062195297894, 302.84283031479964, 270.44936215401185, 159.64067850033592, 132.06214316542383, 266.9286496059707, 210.92035556477376, 119.54740343319088, 301.41735528852195, 202.99614791047128, 138.19014691905116, 91.48997152857083, 31.66001966511765, 9.963420600251723, 14.56277186612211, 11.73705707572018, 12.632107708467961, 70.39167025201213, 28.31815955850486, 16.34495238661885, 15.54823312579003, 20.090034008239343, 8.132075342167692, 10.890945608140774, 26.657397570212957, 21.83941136115819, 11.928940121991971, 15.64614128305917, 7.22549442531217, 17.52724183359461, 6.438723419460231, 18.355724739624435, 28.473417035393783, 11.0989659132911, 35.034082498807166, 17.468754542454043, 27.629519276855543, 36.27980872993935, 9.209377101444003, 9.188627255682173, 26.875296195664067, 27.85459234697281, 14.476237656618315, 42.61717458964153, 75.65101763847524, 42.69855363340218, 24.35701134168621, 29.46062042265357, 55.96760919861709, 31.57478859046381, 45.45958588360238, 52.626479717268566, 33.21080220360553, 61.45428463528656, 28.548576005365792, 131.20020717537952, 32.546092365271065, 216.40734252996995, 45.19199837993811, 87.035410832108, 142.8768531705937, 97.2471047033157, 63.17852491709351, 98.4593032255548, 89.78255668301848, 257.5349725718737, 144.56552832647552, 125.48065094031104, 90.92147404974757, 254.3385820756448, 255.75982195536974, 137.45854845454775, 387.4024351139982, 182.76489093065837, 87.88567116018008, 58.26123452216093, 47.389604069683344, 114.5619635571911, 44.424796932247524, 43.43656168240893, 43.436412774595574, 42.448053590959525, 42.44806170655862, 161.87986978456655, 41.459263176037105, 47.38644443363421, 40.46818087188896, 38.4946946949003, 42.44034038053193, 56.23144136805868, 84.89474982493124, 33.553300758468694, 33.55329577778352, 97.76029550775769, 32.56501957197936, 35.52119022596228, 75.04027029239747, 34.53973401259735, 31.576736745187812, 31.57646993666303, 39.46939000341281, 31.57473395130541, 30.58828012042962, 283.1080740097758, 136.09036837409965, 343.41585011203426, 309.90773461346396, 79.95711408766864, 41.45149133373471, 132.96860614615613, 98.4281992560073, 88.69622839217723, 60.21533380089536, 46.34263242683654, 500.94255845895657, 135.21920699156772, 131.1364897573954, 91.79460620842192, 117.08895450956658, 205.33622151629302, 237.28903458929935, 125.31173779361043, 96.70292586100275, 77.96027373846607, 68.09214015252722, 205.89014150140437, 125.13972583488903, 121.1026779306299, 205.25751363956917, 84.76403432857707, 284.86382519980094, 106.23321173328371, 215.1295832014431, 209.74657989472212, 266.03473243261743, 112.3286599100383, 131.98354608609722, 132.43057457367203, 217.5853662524874, 295.16886002071635, 144.2287330833512, 142.10085287710478, 175.98820720151923, 254.3385820756448, 387.4024351139982, 791.9210838292405, 216.66762220502198, 266.9286496059707, 255.75982195536974, 25.919279278278065, 24.958439788952138, 26.872282190528345, 19.193372644105832, 18.232997675479755, 21.09880271772355, 23.0058961932525, 15.350703501452472, 15.350694167496348, 15.35071508284559, 19.17337881577148, 14.389902432359131, 16.315479893631526, 13.429114555613188, 13.429081024558622, 13.429147830899698, 13.429123071483621, 13.428869659157797, 13.426111872296588, 12.468319565144295, 62.44789997527086, 11.504389629779455, 39.261317745336555, 10.546755135918774, 9.585888351301222, 9.58596122045558, 9.585542324585315, 9.586342648037325, 25.924814765388565, 9.585217576830019, 26.887125299920832, 302.6615396762976, 50.09617225144929, 39.39489291483426, 59.75969806266295, 56.46527028774045, 47.59433433431911, 89.60588556185836, 110.38899708576879, 40.05859347980164, 59.75498415832105, 75.68189385299499, 67.15123858869113, 66.76204531936116, 48.11348820383062, 66.39607981905179, 57.33459609830909, 58.488518955728736, 62.87211260514374, 262.7953780953204, 45.32705952954187, 387.4024351139982, 186.9820434632988, 98.4593032255548, 97.96120893759961, 791.9210838292405, 74.62082666592579, 97.34324714127507, 150.01341798938773, 49.735907730549094, 127.90701570421717, 295.16886002071635, 166.93767055438758, 172.68059499167202, 147.85634479803412, 216.66762220502198, 116.59944131851515, 301.41735528852195, 217.5853662524874], \"Category\": [\"Default\", \"Default\", \"Default\", \"Default\", \"Default\", \"Default\", \"Default\", \"Default\", \"Default\", \"Default\", \"Default\", \"Default\", \"Default\", \"Default\", \"Default\", \"Default\", \"Default\", \"Default\", \"Default\", \"Default\", \"Default\", \"Default\", \"Default\", \"Default\", \"Default\", \"Default\", \"Default\", \"Default\", \"Default\", \"Default\", \"Topic1\", \"Topic1\", \"Topic1\", \"Topic1\", \"Topic1\", \"Topic1\", \"Topic1\", \"Topic1\", \"Topic1\", \"Topic1\", \"Topic1\", \"Topic1\", \"Topic1\", \"Topic1\", \"Topic1\", \"Topic1\", \"Topic1\", \"Topic1\", \"Topic1\", \"Topic1\", \"Topic1\", \"Topic1\", \"Topic1\", \"Topic1\", \"Topic1\", \"Topic1\", \"Topic1\", \"Topic1\", \"Topic1\", \"Topic1\", \"Topic1\", \"Topic1\", \"Topic1\", \"Topic1\", \"Topic1\", \"Topic1\", \"Topic1\", \"Topic1\", \"Topic1\", \"Topic1\", \"Topic1\", \"Topic1\", \"Topic1\", \"Topic1\", \"Topic1\", \"Topic1\", \"Topic1\", \"Topic1\", \"Topic1\", \"Topic1\", \"Topic1\", \"Topic1\", \"Topic1\", \"Topic1\", \"Topic1\", \"Topic1\", \"Topic1\", \"Topic1\", \"Topic1\", \"Topic1\", \"Topic1\", \"Topic1\", \"Topic1\", \"Topic1\", \"Topic1\", \"Topic1\", \"Topic1\", \"Topic1\", \"Topic2\", \"Topic2\", \"Topic2\", \"Topic2\", \"Topic2\", \"Topic2\", \"Topic2\", \"Topic2\", \"Topic2\", \"Topic2\", \"Topic2\", \"Topic2\", \"Topic2\", \"Topic2\", \"Topic2\", \"Topic2\", \"Topic2\", \"Topic2\", \"Topic2\", \"Topic2\", \"Topic2\", \"Topic2\", \"Topic2\", \"Topic2\", \"Topic2\", \"Topic2\", \"Topic2\", \"Topic2\", \"Topic2\", \"Topic2\", \"Topic2\", \"Topic2\", \"Topic2\", \"Topic2\", \"Topic2\", \"Topic2\", \"Topic2\", \"Topic2\", \"Topic2\", \"Topic2\", \"Topic2\", \"Topic2\", \"Topic2\", \"Topic2\", \"Topic2\", \"Topic2\", \"Topic2\", \"Topic2\", \"Topic2\", \"Topic2\", \"Topic2\", \"Topic2\", \"Topic2\", \"Topic2\", \"Topic2\", \"Topic2\", \"Topic2\", \"Topic2\", \"Topic2\", \"Topic2\", \"Topic2\", \"Topic2\", \"Topic2\", \"Topic2\", \"Topic2\", \"Topic2\", \"Topic2\", \"Topic2\", \"Topic2\", \"Topic2\", \"Topic2\", \"Topic2\", \"Topic2\", \"Topic2\", \"Topic2\", \"Topic3\", \"Topic3\", \"Topic3\", \"Topic3\", \"Topic3\", \"Topic3\", \"Topic3\", \"Topic3\", \"Topic3\", \"Topic3\", \"Topic3\", \"Topic3\", \"Topic3\", \"Topic3\", \"Topic3\", \"Topic3\", \"Topic3\", \"Topic3\", \"Topic3\", \"Topic3\", \"Topic3\", \"Topic3\", \"Topic3\", \"Topic3\", \"Topic3\", \"Topic3\", \"Topic3\", \"Topic3\", \"Topic3\", \"Topic3\", \"Topic3\", \"Topic3\", \"Topic3\", \"Topic3\", \"Topic3\", \"Topic3\", \"Topic3\", \"Topic3\", \"Topic3\", \"Topic3\", \"Topic3\", \"Topic3\", \"Topic3\", \"Topic3\", \"Topic3\", \"Topic3\", \"Topic3\", \"Topic3\", \"Topic3\", \"Topic3\", \"Topic3\", \"Topic3\", \"Topic3\", \"Topic3\", \"Topic3\", \"Topic3\", \"Topic3\", \"Topic3\", \"Topic3\", \"Topic3\", \"Topic3\", \"Topic3\", \"Topic4\", \"Topic4\", \"Topic4\", \"Topic4\", \"Topic4\", \"Topic4\", \"Topic4\", \"Topic4\", \"Topic4\", \"Topic4\", \"Topic4\", \"Topic4\", \"Topic4\", \"Topic4\", \"Topic4\", \"Topic4\", \"Topic4\", \"Topic4\", \"Topic4\", \"Topic4\", \"Topic4\", \"Topic4\", \"Topic4\", \"Topic4\", \"Topic4\", \"Topic4\", \"Topic4\", \"Topic4\", \"Topic4\", \"Topic4\", \"Topic4\", \"Topic4\", \"Topic4\", \"Topic4\", \"Topic4\", \"Topic4\", \"Topic4\", \"Topic4\", \"Topic4\", \"Topic4\", \"Topic4\", \"Topic4\", \"Topic4\", \"Topic4\", \"Topic4\", \"Topic4\", \"Topic4\", \"Topic4\", \"Topic4\", \"Topic4\", \"Topic4\", \"Topic4\", \"Topic4\", \"Topic4\", \"Topic4\", \"Topic4\", \"Topic4\", \"Topic4\", \"Topic4\", \"Topic4\", \"Topic4\", \"Topic4\", \"Topic4\", \"Topic4\", \"Topic4\", \"Topic4\", \"Topic4\", \"Topic4\", \"Topic4\", \"Topic4\", \"Topic4\", \"Topic4\", \"Topic4\", \"Topic4\", \"Topic4\", \"Topic4\", \"Topic5\", \"Topic5\", \"Topic5\", \"Topic5\", \"Topic5\", \"Topic5\", \"Topic5\", \"Topic5\", \"Topic5\", \"Topic5\", \"Topic5\", \"Topic5\", \"Topic5\", \"Topic5\", \"Topic5\", \"Topic5\", \"Topic5\", \"Topic5\", \"Topic5\", \"Topic5\", \"Topic5\", \"Topic5\", \"Topic5\", \"Topic5\", \"Topic5\", \"Topic5\", \"Topic5\", \"Topic5\", \"Topic5\", \"Topic5\", \"Topic5\", \"Topic5\", \"Topic5\", \"Topic5\", \"Topic5\", \"Topic5\", \"Topic5\", \"Topic5\", \"Topic5\", \"Topic5\", \"Topic5\", \"Topic5\", \"Topic5\", \"Topic5\", \"Topic5\", \"Topic5\", \"Topic5\", \"Topic5\", \"Topic5\", \"Topic5\", \"Topic5\", \"Topic5\", \"Topic5\", \"Topic5\", \"Topic5\", \"Topic5\", \"Topic5\", \"Topic5\", \"Topic5\", \"Topic5\", \"Topic5\", \"Topic5\", \"Topic5\", \"Topic5\", \"Topic5\", \"Topic5\", \"Topic5\", \"Topic5\", \"Topic5\"], \"logprob\": [30.0, 29.0, 28.0, 27.0, 26.0, 25.0, 24.0, 23.0, 22.0, 21.0, 20.0, 19.0, 18.0, 17.0, 16.0, 15.0, 14.0, 13.0, 12.0, 11.0, 10.0, 9.0, 8.0, 7.0, 6.0, 5.0, 4.0, 3.0, 2.0, 1.0, -5.359, -6.0654, -6.4193, -6.8203, -6.9719, -6.2892, -6.984, -7.1515, -7.1538, -7.2576, -6.3824, -5.1199, -6.107, -6.5927, -6.3745, -6.3753, -7.6505, -6.4674, -6.1703, -5.945, -7.4148, -7.8256, -7.8257, -7.8262, -7.8281, -6.539, -6.021, -7.155, -7.1634, -6.513, -5.3853, -6.2546, -6.5256, -6.9481, -6.4714, -6.6363, -6.0237, -6.9125, -6.6164, -5.4112, -6.1508, -6.1912, -4.9788, -6.0582, -6.3629, -6.0084, -5.9956, -6.1195, -5.6044, -6.1958, -5.5082, -5.7481, -6.167, -5.6114, -5.8563, -6.0804, -5.9449, -5.7021, -5.8511, -5.9934, -5.7506, -5.9104, -6.0014, -5.9326, -5.9549, -5.9961, -6.0646, -6.0621, -6.3293, -6.7658, -7.1053, -7.1054, -6.3137, -7.3087, -7.4033, -7.4539, -7.5072, -7.4572, -7.5644, -6.4461, -5.841, -7.6237, -7.6238, -7.6239, -6.524, -6.284, -7.6874, -7.6875, -7.6879, -6.8492, -7.6284, -7.6888, -7.2827, -7.7556, -7.756, -7.4213, -7.8284, -5.9921, -5.6195, -6.5727, -7.219, -5.5678, -5.9226, -6.7322, -6.6919, -6.5657, -6.7694, -6.9946, -6.029, -6.2879, -6.7841, -5.6677, -5.3643, -6.5005, -6.3968, -5.2272, -6.57, -6.3919, -5.1974, -5.84, -5.1451, -5.6147, -5.7654, -5.7794, -5.7086, -6.0973, -5.5445, -4.3921, -6.0715, -5.8893, -5.8505, -5.69, -5.6415, -5.3121, -5.3919, -5.7506, -5.9063, -5.5594, -5.6991, -5.9776, -5.591, -5.8386, -5.9791, -4.5371, -5.6116, -6.7703, -6.4658, -6.696, -6.6296, -4.9121, -5.8279, -6.3809, -6.4389, -6.1974, -7.1393, -6.8509, -5.9587, -6.1614, -6.7862, -6.5218, -7.2997, -6.4404, -7.4439, -6.4443, -6.0097, -6.9541, -5.8051, -6.514, -6.0626, -5.7908, -7.1626, -7.1649, -6.0964, -6.0706, -6.7283, -5.6942, -5.2033, -5.7334, -6.2466, -6.0988, -5.5934, -6.0493, -5.833, -5.7674, -6.0762, -5.716, -6.1967, -5.4132, -6.1738, -5.4528, -6.0573, -5.8371, -5.715, -5.8505, -5.9765, -5.8915, -5.9249, -5.7653, -5.8725, -5.908, -5.9619, -5.8641, -5.8854, -5.9354, -6.0061, -5.7253, -6.4626, -6.8757, -7.0853, -6.2035, -7.1509, -7.1737, -7.1738, -7.1972, -7.1972, -5.859, -7.2213, -7.0885, -7.2466, -7.2969, -7.1993, -6.9193, -6.5088, -7.4371, -7.4371, -6.3683, -7.4677, -7.3809, -6.6332, -7.4091, -7.4992, -7.4993, -7.2762, -7.5, -7.5319, -5.3166, -6.0468, -5.1325, -5.2349, -6.5766, -7.228, -6.0777, -6.375, -6.4796, -6.8592, -7.1181, -4.7903, -6.0708, -6.101, -6.4501, -6.2143, -5.6744, -5.5362, -6.1531, -6.4019, -6.6114, -6.742, -5.693, -6.1649, -6.2004, -5.7175, -6.538, -5.4949, -6.3509, -5.7757, -5.8506, -5.7734, -6.3283, -6.2253, -6.2257, -5.9241, -5.7785, -6.1845, -6.2012, -6.1119, -5.9578, -5.8749, -5.701, -6.0949, -6.0779, -6.0877, -6.53, -6.569, -6.4961, -6.8413, -6.8947, -6.7513, -6.6676, -7.0747, -7.0747, -7.0748, -6.854, -7.1426, -7.0201, -7.2155, -7.2155, -7.2157, -7.2158, -7.216, -7.2203, -7.2944, -5.6897, -7.3837, -6.157, -7.4735, -7.5768, -7.5768, -7.5775, -7.5779, -6.5859, -7.5827, -6.5624, -4.1933, -5.9784, -6.2148, -5.8169, -5.8747, -6.0477, -5.4722, -5.2836, -6.2227, -5.9127, -5.7083, -5.8284, -5.8557, -6.1342, -5.8828, -6.0135, -6.0188, -5.9628, -5.0106, -6.2488, -4.7788, -5.2777, -5.7634, -5.7851, -4.5486, -5.9671, -5.8205, -5.6291, -6.196, -5.7744, -5.4195, -5.686, -5.7169, -5.828, -5.7999, -5.923, -5.8105, -5.9652], \"loglift\": [30.0, 29.0, 28.0, 27.0, 26.0, 25.0, 24.0, 23.0, 22.0, 21.0, 20.0, 19.0, 18.0, 17.0, 16.0, 15.0, 14.0, 13.0, 12.0, 11.0, 10.0, 9.0, 8.0, 7.0, 6.0, 5.0, 4.0, 3.0, 2.0, 1.0, 2.3758, 2.3614, 2.3495, 2.3299, 2.3207, 2.3117, 2.3075, 2.3071, 2.3045, 2.2954, 2.2945, 2.2934, 2.2814, 2.2682, 2.2643, 2.2581, 2.2563, 2.2545, 2.2465, 2.2411, 2.2381, 2.2338, 2.2336, 2.2332, 2.2311, 2.2193, 2.2133, 2.2062, 2.1998, 2.1991, 2.1986, 2.1935, 2.1817, 2.189, 2.1533, 2.1646, 2.0348, 2.1596, 2.0919, 1.8005, 1.9365, 1.9183, 1.3376, 1.7737, 1.9226, 1.6817, 1.5832, 1.636, 0.899, 1.686, 0.5099, 0.9056, 1.5964, 0.5813, 0.964, 1.4127, 1.0224, 0.3417, 0.7245, 1.1356, 0.3807, 0.7124, 0.9943, 0.2274, 0.2252, 0.0831, 0.8154, -1.0053, 1.3421, 1.3366, 1.3287, 1.3287, 1.325, 1.3223, 1.3187, 1.317, 1.3151, 1.314, 1.312, 1.3118, 1.3108, 1.31, 1.3099, 1.3097, 1.3093, 1.3071, 1.307, 1.3069, 1.3065, 1.306, 1.3057, 1.3056, 1.3052, 1.3035, 1.3031, 1.3004, 1.2998, 1.2967, 1.2942, 1.2828, 1.2886, 1.2283, 1.2389, 1.2712, 1.2677, 1.2545, 1.2614, 1.2753, 1.2037, 1.2102, 1.251, 1.1508, 1.1195, 1.2246, 1.1956, 1.0445, 1.2153, 1.1898, 1.0111, 1.0986, 0.9525, 1.0364, 1.0592, 1.0613, 1.0429, 1.1211, 0.9736, 0.6647, 1.1053, 1.0395, 1.0257, 0.9592, 0.9342, 0.7059, 0.7393, 0.9078, 0.9417, 0.5849, 0.6808, 0.97, 0.4318, 0.5795, 0.8236, 2.6779, 2.6646, 2.6621, 2.587, 2.5725, 2.5655, 2.5651, 2.5599, 2.5565, 2.5484, 2.5337, 2.4962, 2.4924, 2.4895, 2.4862, 2.4662, 2.4592, 2.454, 2.4272, 2.4251, 2.3771, 2.3727, 2.3704, 2.3699, 2.3569, 2.3498, 2.3492, 2.3484, 2.3484, 2.3437, 2.3337, 2.3305, 2.2848, 2.2019, 2.2437, 2.2919, 2.2495, 2.1131, 2.2296, 2.0815, 2.0007, 2.1522, 1.897, 2.183, 1.4414, 2.0748, 0.9013, 1.8631, 1.4279, 1.0543, 1.3036, 1.6088, 1.2502, 1.309, 0.4149, 0.885, 0.9912, 1.2594, 0.3285, 0.3016, 0.8725, -0.2343, 0.7978, 0.7927, 0.7906, 0.7876, 0.7867, 0.7866, 0.7863, 0.7862, 0.7858, 0.7858, 0.7855, 0.7852, 0.7845, 0.7842, 0.7839, 0.7839, 0.7826, 0.7811, 0.7811, 0.7811, 0.7805, 0.7804, 0.7803, 0.7801, 0.7801, 0.7797, 0.7796, 0.7796, 0.7789, 0.7788, 0.7689, 0.7712, 0.7599, 0.7601, 0.7732, 0.7788, 0.7635, 0.767, 0.7665, 0.7741, 0.7771, 0.7245, 0.7536, 0.7541, 0.7616, 0.7541, 0.7322, 0.7258, 0.7474, 0.7577, 0.7637, 0.7684, 0.711, 0.7369, 0.7343, 0.6896, 0.7535, 0.5844, 0.7148, 0.5843, 0.5348, 0.3743, 0.6815, 0.6234, 0.6195, 0.4246, 0.2652, 0.5754, 0.5735, 0.449, 0.2348, -0.1031, -0.6442, 0.258, 0.0664, 0.0994, 1.9464, 1.9451, 1.9441, 1.9354, 1.9333, 1.9308, 1.9279, 1.9254, 1.9254, 1.9253, 1.9238, 1.9222, 1.9191, 1.9184, 1.9183, 1.9181, 1.918, 1.9179, 1.9138, 1.9137, 1.9073, 1.9049, 1.9041, 1.902, 1.8942, 1.8942, 1.8935, 1.893, 1.8902, 1.8884, 1.8773, 1.8254, 1.839, 1.8429, 1.8241, 1.823, 1.8209, 1.7636, 1.7437, 1.8183, 1.7283, 1.6965, 1.696, 1.6744, 1.7235, 1.6529, 1.6689, 1.6436, 1.6274, 1.1493, 1.6686, 0.9931, 1.2226, 1.3783, 1.3616, 0.5082, 1.4518, 1.3326, 1.0915, 1.6285, 1.1055, 0.6243, 0.9276, 0.863, 0.907, 0.553, 1.0495, 0.2123, 0.3835]}, \"token.table\": {\"Topic\": [1, 2, 3, 4, 5, 1, 2, 3, 4, 5, 1, 3, 4, 5, 1, 3, 4, 5, 1, 3, 4, 5, 1, 3, 4, 3, 4, 2, 4, 3, 4, 5, 4, 1, 2, 3, 5, 4, 2, 4, 1, 2, 3, 4, 5, 4, 5, 2, 4, 1, 2, 3, 4, 5, 5, 5, 3, 1, 2, 3, 4, 5, 4, 4, 1, 2, 3, 4, 5, 2, 5, 1, 3, 4, 2, 3, 4, 5, 2, 3, 4, 3, 5, 1, 2, 5, 1, 2, 3, 4, 5, 1, 2, 3, 5, 1, 3, 1, 1, 2, 4, 5, 1, 2, 5, 1, 2, 3, 4, 5, 1, 2, 3, 4, 1, 3, 1, 4, 1, 2, 3, 4, 5, 1, 2, 4, 5, 2, 3, 1, 2, 3, 4, 5, 3, 4, 4, 1, 2, 4, 5, 2, 3, 1, 2, 3, 4, 5, 1, 2, 3, 1, 2, 4, 5, 5, 1, 2, 3, 4, 5, 1, 2, 3, 4, 5, 1, 5, 4, 4, 1, 1, 2, 4, 4, 5, 2, 4, 1, 2, 4, 5, 1, 2, 3, 4, 5, 1, 1, 2, 3, 4, 5, 2, 3, 4, 5, 3, 5, 5, 1, 2, 3, 4, 5, 5, 1, 4, 5, 2, 3, 4, 2, 5, 2, 3, 4, 5, 1, 2, 3, 4, 5, 1, 2, 5, 1, 3, 5, 4, 1, 4, 1, 5, 2, 3, 4, 2, 3, 1, 2, 5, 1, 5, 2, 3, 5, 1, 2, 3, 4, 2, 3, 2, 4, 5, 4, 4, 5, 3, 4, 2, 5, 1, 2, 3, 4, 1, 5, 1, 2, 4, 5, 1, 2, 2, 4, 5, 1, 2, 3, 5, 1, 2, 4, 5, 1, 2, 3, 2, 4, 5, 1, 2, 4, 5, 2, 5, 1, 2, 3, 4, 5, 1, 2, 4, 5, 1, 2, 3, 4, 1, 2, 3, 4, 5, 2, 5, 2, 5, 1, 2, 3, 4, 5, 1, 2, 3, 4, 5, 1, 2, 3, 1, 4, 1, 3, 2, 1, 2, 3, 4, 5, 1, 2, 3, 5, 5, 1, 2, 3, 4, 5, 5, 1, 2, 4, 5, 2, 1, 2, 4, 5, 2, 3, 4, 2, 1, 2, 4, 1, 2, 3, 4, 4, 2, 5, 5, 2, 1, 2, 4, 5, 5, 1, 4, 5, 1, 3, 4, 5, 3, 4, 5, 4, 1, 3, 4, 5, 1, 2, 4, 5, 1, 2, 3, 4, 5, 4, 5, 1, 2, 3, 4, 5, 2, 2, 4, 5, 5, 1, 2, 3, 4, 5, 2, 3, 5, 1, 2, 3, 4, 5, 3, 4, 1, 2, 3, 4, 5, 2, 1, 2, 3, 4, 5, 2, 1, 2, 3, 4, 5, 4, 4, 1, 4, 5, 1, 2, 3, 4, 5, 1, 2, 4, 5, 2, 5, 2, 1, 2, 1, 2, 4, 5, 4, 1, 3, 1, 3, 1, 2, 2, 4, 5, 1, 4, 5, 1, 2, 3, 4, 1, 2, 5, 4, 5, 2, 2, 4, 5, 1, 2, 5, 4, 1, 2, 3, 4, 5, 1, 2, 5, 1, 3, 4, 5, 2, 3, 4, 5, 1, 2, 3, 4, 5, 1, 2, 3, 4, 5, 4, 5, 1, 2, 3, 4, 5, 5, 1, 2, 4, 1, 2, 3, 4, 5, 5, 2, 4, 1, 1, 2, 4, 2, 2, 1, 2, 3, 5, 1, 2, 3, 4, 4, 2, 4, 1, 2, 4, 5, 1, 2, 3, 4, 5, 1, 2, 3, 4, 1, 5, 5, 1, 2, 3, 4, 5, 1, 2, 3, 1, 2, 4, 5, 1, 2, 5, 5, 2, 5, 4, 5, 1, 4, 5, 2, 3, 4, 2, 4, 1, 2, 3, 4, 5, 1, 2, 3, 4, 5, 1, 3, 1, 3, 4, 1, 2, 4, 5, 1, 2, 3, 4, 5, 1, 2, 3, 4, 5, 3, 4, 5, 1, 4, 1, 4, 1, 2, 4, 5, 1, 2, 3, 4, 5, 1, 4, 4, 2, 2, 4, 4, 1, 4, 5, 1, 2, 4, 1, 2, 3, 4, 5, 5, 5, 1, 1, 2, 3, 4, 5, 1, 3, 4, 5, 5, 1, 2, 4, 5, 2, 3, 4, 1, 3, 2, 2, 4, 5, 1, 2, 3, 4, 5, 1, 3, 4, 1, 2, 4, 5, 1, 4, 2, 4, 5, 1, 1, 2, 3, 4, 5, 2, 4, 1, 2, 3, 4, 5, 2, 3, 4, 4, 1, 3, 4, 2, 1, 2, 3, 4, 5, 1, 2, 3, 5, 2, 3, 4, 5, 2, 1, 5, 2, 2, 2, 4, 1, 2, 5, 5, 2, 1, 2, 3, 4, 5, 2, 3, 4, 5, 4, 5, 1, 2, 5, 1, 1, 4, 5, 2, 4, 5, 1, 3, 4, 5, 3, 4, 1, 2, 4, 5, 4, 1, 3, 4, 5, 2, 4, 1, 2, 3, 1, 2, 3, 3, 4, 1, 1, 2, 4, 5, 1, 2, 4, 5, 1, 2, 4, 5, 2, 1, 2, 3, 4, 5, 1, 2, 3, 4, 1, 2, 5, 1, 2, 3, 4, 5, 1, 2, 3, 4, 5, 1, 5, 5, 2, 4, 1, 2, 3, 4, 1, 2, 3, 4, 5, 2, 1, 2, 3, 4, 1, 2, 3, 4, 5, 1, 2, 3, 4, 5, 1, 2, 3, 4, 5, 1, 2, 5, 5, 1, 2, 5, 2, 1, 2, 1, 2, 3, 4, 5, 4, 1, 2, 3, 4, 5, 2, 4, 5, 5, 1, 2, 5, 1, 2, 4, 5, 1, 2, 3, 4, 5], \"Freq\": [0.0982925788501262, 0.003510449244647364, 0.017552246223236822, 0.8038928770242464, 0.07722988338224201, 0.13834556710389187, 0.02075183506558378, 0.15909740216947565, 0.4703749281532324, 0.221352907366227, 0.19532279835839617, 0.264260256602536, 0.3331977148466758, 0.20681237473241948, 0.9392159289863046, 0.03775563170435741, 0.830623897495863, 0.1283691477948152, 0.24576883511892683, 0.026332375191313588, 0.4739827534436446, 0.25454629351603136, 0.8251862724364935, 0.07501693385786305, 0.07501693385786305, 0.7417025521427332, 0.22821616989007176, 0.04437239452509258, 0.9540064822894905, 0.014696117174892111, 0.9699437335428793, 0.014696117174892111, 0.9835097964742249, 0.11364981071423463, 0.02841245267855866, 0.8381673540174804, 0.02841245267855866, 0.9649833748549975, 0.02937196562657563, 0.9692748656769958, 0.28079622474628957, 0.26073935155012606, 0.060170619588490626, 0.29082466134437135, 0.11031280257889947, 0.9955161519610167, 0.9624392394903398, 0.915568667650949, 0.03980733337612822, 0.003758907684180993, 0.19922210726159262, 0.018794538420904963, 0.6502910293633117, 0.12780286126215376, 0.9561567674591073, 0.938835625893534, 0.9033042326620857, 0.06145130965504598, 0.09217696448256897, 0.5223361320678909, 0.2458052386201839, 0.06145130965504598, 0.9884308891133236, 0.9817353911570452, 0.06566891403255996, 0.7305666686122295, 0.024625842762209985, 0.06566891403255996, 0.11492059955697993, 0.06405339493536188, 0.9287742265627473, 0.8623920621574942, 0.09077811180605201, 0.9894446611079725, 0.23464718382411456, 0.6335473963251094, 0.11732359191205728, 0.023464718382411456, 0.07062605872631067, 0.847512704715728, 0.07062605872631067, 0.05094072524444392, 0.9424034170222125, 0.06005356403820681, 0.9008034605731021, 0.04003570935880454, 0.24303616299207503, 0.2724950918395993, 0.06628258990692956, 0.24303616299207503, 0.16938884087326442, 0.03154101151336592, 0.8516073108608798, 0.03154101151336592, 0.0788525287834148, 0.13839883351052423, 0.6919941675526212, 0.982030614429428, 0.14205497287311525, 0.0568219891492461, 0.698910466535727, 0.10227958046864298, 0.07732425747583721, 0.8698978966031686, 0.038662128737918605, 0.14396315492077227, 0.20566164988681754, 0.23651089736984016, 0.3701909697962716, 0.041132329977363505, 0.4539141014390927, 0.03782617511992439, 0.07565235023984879, 0.4350010138791305, 0.9177768000854987, 0.043703657146928504, 0.8262580298935173, 0.14581024056944422, 0.00464836116501755, 0.1208573902904563, 0.0092967223300351, 0.8041664815480362, 0.06042869514522815, 0.03103352284604643, 0.670324093474603, 0.10551397767655787, 0.19240784164548788, 0.14932777111127027, 0.7964147792601081, 0.05129211772776751, 0.017097372575922504, 0.03419474515184501, 0.18807109833514754, 0.7180896481887451, 0.7877738231831547, 0.18756519599598923, 0.9881074928350242, 0.013846092782433577, 0.16153774912839172, 0.5815358968622103, 0.23999894156218202, 0.2171699538382901, 0.6515098615148702, 0.020312961137032567, 0.1828166502332931, 0.22344257250735824, 0.020312961137032567, 0.5484499506998793, 0.9062194593768577, 0.0533070270221681, 0.02665351351108405, 0.027176621576415753, 0.14494198174088402, 0.027176621576415753, 0.7971808995748622, 0.9562765916701161, 0.06533059339110533, 0.6805270144906806, 0.02177686446370178, 0.1578822673618379, 0.07621902562295622, 0.007037255440435991, 0.11963334248741185, 0.04222353264261595, 0.795209864769267, 0.035186277202179955, 0.8577516379340883, 0.09028964609832509, 0.9904378418905238, 0.9899224623480901, 0.8065088765021898, 0.865951907819804, 0.0865951907819804, 0.02886506359399347, 0.9620284332454127, 0.025654091553211, 0.9592650715207657, 0.037618238098853556, 0.028239756202909527, 0.04706626033818255, 0.9130854505607414, 0.00941325206763651, 0.028945623759580447, 0.5861488811315041, 0.014472811879790224, 0.21709217819685336, 0.15196452473779734, 0.9600041330535114, 0.555583918319738, 0.09804422087995375, 0.13072562783993835, 0.13072562783993835, 0.08715041855995889, 0.03800368200086412, 0.47504602501080145, 0.30402945600691295, 0.17101656900388854, 0.6529811073019257, 0.2176603691006419, 0.9388016672989171, 0.05640020291375493, 0.3981190793912113, 0.05640020291375493, 0.31849526351296903, 0.17251826773619156, 0.9389140118777112, 0.00617742033849436, 0.9822098338206032, 0.00617742033849436, 0.0097401227373871, 0.058440736424322605, 0.9301817214204681, 0.9380133594229257, 0.056604254447935175, 0.28766154332690524, 0.4204284094777846, 0.17702248820117247, 0.1106390551257328, 0.19030459281958417, 0.657415866104018, 0.011533611686035405, 0.040367640901123915, 0.10380250517431865, 0.08703510008830909, 0.8703510008830909, 0.04351755004415454, 0.031585577348891516, 0.9159817431178539, 0.031585577348891516, 0.9894444719371158, 0.01778364515777881, 0.9781004836778346, 0.9589035630923038, 0.9680636069868077, 0.07441778447534544, 0.6697600602781091, 0.26046224566370907, 0.06866824593512552, 0.8240189512215064, 0.01025996545741897, 0.9541767875399643, 0.030779896372256914, 0.8833459197700145, 0.07066767358160116, 0.8447896036471111, 0.015939426483907757, 0.12751541187126206, 0.025621545709120577, 0.008540515236373525, 0.008540515236373525, 0.9479971912374614, 0.054650798513349426, 0.9399937344296101, 0.7896155945953339, 0.18643701539056495, 0.021933766516537053, 0.9807677934779762, 0.9863657752652664, 0.008728900666064304, 0.7207878700140827, 0.27029545125528104, 0.07714616355408407, 0.9257539626490089, 0.19294478788757669, 0.055127082253593335, 0.66152498704312, 0.08269062338039, 0.818414873309825, 0.10230185916372812, 0.020784192485972856, 0.04156838497194571, 0.14548934740181, 0.7690151219809956, 0.8302493923349449, 0.1465145986473432, 0.08927984975358895, 0.08927984975358895, 0.8035186477823006, 0.6375702702435819, 0.09563554053653728, 0.19127108107307456, 0.09563554053653728, 0.03410350186883757, 0.04871928838405367, 0.8915629774281821, 0.024359644192026835, 0.049632326414531226, 0.8933818754615621, 0.049632326414531226, 0.9552163444225068, 0.01592027240704178, 0.03184054481408356, 0.0605775418166509, 0.6587807672560785, 0.18930481817703407, 0.09086631272497635, 0.07438504405697433, 0.8926205286836918, 0.15189397071802502, 0.5217227689879991, 0.03632247125865816, 0.1783103134515946, 0.11226945661767068, 0.0206255438733483, 0.7287692168583066, 0.0068751812911161, 0.2406313451890635, 0.007064439991672365, 0.021193319975017097, 0.0035322199958361827, 0.9642960588632778, 0.014778605559171052, 0.4581367723343026, 0.029557211118342103, 0.40887475380373245, 0.0837454315019693, 0.9101835880468686, 0.0627712819342668, 0.9515087714543251, 0.027985552101597796, 0.25594841005965974, 0.3924542287581449, 0.02559484100596597, 0.26448002372831503, 0.05972129568058727, 0.11432908775783425, 0.4192066551120589, 0.2743898106188022, 0.02286581755156685, 0.1753046012286792, 0.7113017726564698, 0.17782544316411744, 0.1270181736886553, 0.8413035613331183, 0.0934781734814576, 0.8877698982642576, 0.09864109980713973, 0.9752808087097921, 0.09703922128747429, 0.20332027317375564, 0.1571111201797203, 0.3835359698504936, 0.16173203547912382, 0.03488295263422958, 0.1744147631711479, 0.052324428951344364, 0.7325420053188211, 0.9389458223416187, 0.11415725884310828, 0.26636693730058597, 0.011415725884310828, 0.1712358882646624, 0.4376028255652484, 0.9680435544903115, 0.34709679940707, 0.26699753800543846, 0.20914807143759348, 0.173548399703535, 0.9752793862950141, 0.82188618092479, 0.06322201391729154, 0.03161100695864577, 0.07902751739661443, 0.02359491281700034, 0.02359491281700034, 0.9555939690885138, 0.9715471571095983, 0.4896873204732483, 0.4258150612810855, 0.06387225919216283, 0.7298107039858128, 0.09730809386477506, 0.09730809386477506, 0.04865404693238753, 0.9835099424674142, 0.9205076511760046, 0.06903807383820035, 0.9388729823770628, 0.9752661198437355, 0.07787337607400395, 0.4672402564440237, 0.10782467456400548, 0.35342532218201794, 0.9481589238706504, 0.11982856369560595, 0.13480713415755669, 0.7339499526355864, 0.08042479131316016, 0.02010619782829004, 0.18095578045461036, 0.7037169239901514, 0.3165632630113658, 0.07914081575284145, 0.5856420365710266, 0.9817436864279214, 0.2032726653565631, 0.04690907662074533, 0.32054535690842645, 0.422181689586708, 0.011124446629533744, 0.8565823904740983, 0.06674667977720247, 0.06674667977720247, 0.031566180025054784, 0.7891545006263696, 0.005261030004175798, 0.09469854007516434, 0.08417648006681276, 0.1197696297011279, 0.8783106178082712, 0.11198454924602896, 0.2169700641641811, 0.18197489252479707, 0.45493723131199265, 0.03499517163938405, 0.962564742129464, 0.10041003415050664, 0.10041003415050664, 0.786545267512302, 0.9323754822204621, 0.08769694623899096, 0.6389348940269342, 0.025056270353997417, 0.03758440553099613, 0.21297829800897805, 0.14477269618478977, 0.6876703068777514, 0.14477269618478977, 0.074608010257905, 0.770949439331685, 0.049738673505270004, 0.08289778917545, 0.016579557835090002, 0.8361078647860478, 0.12863197919785352, 0.049748324842076995, 0.727569250815376, 0.03731124363155775, 0.1803376775525291, 0.012437081210519249, 0.9715729121228543, 0.20048437764531302, 0.1670703147044275, 0.23389844058619852, 0.23389844058619852, 0.15593229372413234, 0.9841801498101093, 0.08510351385808472, 0.7318902191795286, 0.008510351385808471, 0.08935868955098895, 0.08935868955098895, 0.9843735330329846, 0.9826494938616425, 0.06061361614561664, 0.8334372220022288, 0.09849712623662704, 0.07009612102436256, 0.7165381260268173, 0.05451920524117089, 0.12461532626553345, 0.031153831566383364, 0.011767027640787733, 0.9413622112630186, 0.023534055281575466, 0.023534055281575466, 0.9683648775522828, 0.016695946164694532, 0.981513391586678, 0.8724760883926322, 0.10905951104907903, 0.04290392516847695, 0.6685861672087658, 0.135862429700177, 0.15373906518704242, 0.9899494420023183, 0.0852002332057025, 0.852002332057025, 0.07916335286863077, 0.8707968815549384, 0.8958330105127915, 0.047149105816462714, 0.13270558970215324, 0.31645179082821157, 0.5410304810933939, 0.007991067531340231, 0.934954901166807, 0.047946405188041386, 0.015041144357049547, 0.007520572178524774, 0.015041144357049547, 0.962633238851171, 0.09245633635929798, 0.38009827169933613, 0.5239192393693552, 0.9889225437006186, 0.9771545075636442, 0.9756504878693042, 0.03181060596071611, 0.2544848476857289, 0.6998333311357544, 0.010360531107142874, 0.8910056752142872, 0.10360531107142874, 0.9707417500889741, 0.01032518032268679, 0.16004029500164524, 0.05162590161343395, 0.4026820325847848, 0.37428778669739615, 0.006608041451646083, 0.13216082903292165, 0.8590453887139907, 0.05724506561527987, 0.6869407873833584, 0.05724506561527987, 0.1717351968458396, 0.08382974428351926, 0.7544676985516734, 0.08382974428351926, 0.9680453392824396, 0.02757538387502385, 0.059746665062551677, 0.02757538387502385, 0.6847886995630923, 0.2022194817501749, 0.026664281459695616, 0.5132874180991406, 0.006666070364923904, 0.03999642218954342, 0.413296362625282, 0.975522952397672, 0.025013409035837743, 0.07274920412320966, 0.08002412453553062, 0.15277332865874027, 0.6183682350472821, 0.07274920412320966, 0.9193722831196034, 0.6275676439635647, 0.18304056282270637, 0.18304056282270637, 0.06391392147523178, 0.7070477563197516, 0.01198386027660596, 0.039946200922019864, 0.17176866396468543, 0.9479210866879888, 0.013326178012198774, 0.9728109948905105, 0.9394169764870363, 0.37527475569989144, 0.3175401778999081, 0.2886728889999165, 0.9457142540187483, 0.9615738054506378, 0.28503753791460607, 0.06334167509213469, 0.6017459133752795, 0.06334167509213469, 0.09181939162863133, 0.09181939162863133, 0.7345551330290506, 0.9899528357265539, 0.9896244851812281, 0.10682937025698118, 0.8813423046200948, 0.022477916884744136, 0.4607972961372548, 0.47952889354120826, 0.0337168753271162, 0.4921177658198327, 0.052726903480696356, 0.2987857863906127, 0.10545380696139271, 0.052726903480696356, 0.5468401416736203, 0.08101335432201782, 0.3240534172880713, 0.060760015741513365, 0.9394324975577557, 0.9771531761906315, 0.9729044422509535, 0.22534129120827337, 0.3702035498421634, 0.05365268838292223, 0.26289817307631896, 0.09120957025096779, 0.24633564093026475, 0.08211188031008824, 0.656895042480706, 0.015061130155956262, 0.2108558221833877, 0.06024452062382505, 0.7229342474859006, 0.10505452108812503, 0.04202180843525001, 0.8614470729226252, 0.9615985695798024, 0.10153600388373663, 0.8630560330117614, 0.9513672847110897, 0.04136379498743868, 0.9394155847399085, 0.977681189604321, 0.011779291441015916, 0.10574874270998956, 0.5816180849049426, 0.30402763529122, 0.9368695076298844, 0.049308921454204444, 0.13198202212861412, 0.06599101106430706, 0.23096853872507472, 0.46193707745014945, 0.10998501844051178, 0.07969356171699193, 0.15938712343398387, 0.17532583577738226, 0.5259775073321468, 0.06375484937359355, 0.12296983954571174, 0.7378190372742705, 0.09157755980351366, 0.7784092583298662, 0.13736633970527048, 0.1287398677398862, 0.027103130050502352, 0.5827172960858006, 0.2574797354797724, 0.46911494384829344, 0.07505839101572695, 0.13135218427752215, 0.2627043685550443, 0.05629379326179521, 0.1301780672816825, 0.06508903364084125, 0.42307871866546803, 0.2766283929735753, 0.11390580887147217, 0.025285618487954235, 0.927139344558322, 0.05057123697590847, 0.03047907025299869, 0.9651705580116252, 0.021578403030487116, 0.9710281363719202, 0.00971391823530491, 0.03399871382356718, 0.9131083141186614, 0.04371263205887209, 0.03512047741782988, 0.14048190967131952, 0.7024095483565976, 0.07024095483565976, 0.07024095483565976, 0.8481254790017406, 0.15145097839316796, 0.9917787017357128, 0.9326335323353675, 0.032681658802353006, 0.9586619915356881, 0.9817976628974368, 0.6148716448624704, 0.26733549776629145, 0.10693419910651658, 0.022548873117319547, 0.011274436558659773, 0.9583271074860807, 0.11378702608259916, 0.5073004912849213, 0.0663757652148495, 0.19912729564454854, 0.10904589999582419, 0.9378237130996199, 0.938880119418281, 0.9545850079043503, 0.19725651975613512, 0.19725651975613512, 0.017152740848359577, 0.19725651975613512, 0.39451303951227024, 0.02496343264034521, 0.07489029792103563, 0.02496343264034521, 0.8487567097717371, 0.9680483702664439, 0.03409430630315422, 0.5000498257795953, 0.23487188786617355, 0.23108363161026751, 0.033029822860657816, 0.033029822860657816, 0.9330924958135833, 0.906826189895423, 0.056676636868463935, 0.9821516349017454, 0.0882475069311082, 0.15443313712943935, 0.7280419321816426, 0.0173731159551812, 0.2953429712380804, 0.0057910386517270665, 0.35325335775535105, 0.3300892031484428, 0.061180967453822115, 0.8565335443535096, 0.061180967453822115, 0.04467527424736477, 0.1340258227420943, 0.07445879041227461, 0.759479662205201, 0.8758431454571177, 0.12512044935101682, 0.02394029524146435, 0.941651612830931, 0.02394029524146435, 0.9270588367879615, 0.014302974577729883, 0.04767658192576627, 0.009535316385153255, 0.7628253108122603, 0.16686803674018194, 0.020458203298304185, 0.9819937583186008, 0.18739263589442828, 0.19948248337148816, 0.11485355103206894, 0.28411141571090737, 0.21157233084854807, 0.03050257031738507, 0.015251285158692535, 0.9532053224182834, 0.9871490162781875, 0.9924458062396115, 0.7669622677505141, 0.19174056693762853, 0.9715828238108781, 0.01786747753421472, 0.19654225287636193, 0.5360243260264416, 0.1786747753421472, 0.07146991013685888, 0.07005603360476172, 0.14011206720952343, 0.5604482688380937, 0.21016810081428516, 0.11417453276066789, 0.6850471965640073, 0.0856308995705009, 0.11417453276066789, 0.9785733200041522, 0.8429465732949386, 0.09366073036610428, 0.9615715922052587, 0.9865779379518455, 0.9490433219612076, 0.043138332816418525, 0.03963960000561323, 0.19819800002806615, 0.7531524001066514, 0.9680459531537897, 0.971571435046906, 0.017966131741105385, 0.003992473720245642, 0.005988710580368462, 0.924257666236866, 0.047909684642947696, 0.01747152904574029, 0.005823843015246763, 0.9580221760080925, 0.01747152904574029, 0.1338694849430354, 0.8534179665118508, 0.020739070820572615, 0.9332581869257677, 0.04147814164114523, 0.9058730018338571, 0.8217897843700128, 0.07470816221545572, 0.07470816221545572, 0.10720867561298475, 0.29482385793570803, 0.5896477158714161, 0.054478916751312126, 0.7082259177670576, 0.054478916751312126, 0.16343675025393636, 0.7765514488303892, 0.15531028976607783, 0.1525354867208463, 0.041600587287503536, 0.797344589677151, 0.006933431214583923, 0.9958148913242393, 0.03542000223868995, 0.03542000223868995, 0.05313000335803493, 0.8500800537285589, 0.016607065623957907, 0.9632098061895586, 0.20723616668647643, 0.06907872222882548, 0.6907872222882547, 0.36132821864499315, 0.06022136977416553, 0.5419923279674898, 0.6821137341851957, 0.32310650566667165, 0.9083033096029325, 0.06311513485719049, 0.7784199965720161, 0.04207675657146033, 0.10519189142865082, 0.03758241775205524, 0.7441318714906936, 0.09019780260493256, 0.12026373680657675, 0.021567563112090658, 0.8770808998916868, 0.06470268933627198, 0.0359459385201511, 0.9673907657800885, 0.02509464792915014, 0.6775554940870538, 0.016729765286100096, 0.10037859171660056, 0.17566253550405098, 0.1018308493494308, 0.1018308493494308, 0.6109850960965848, 0.2036616986988616, 0.770076482555678, 0.07000695295960709, 0.07000695295960709, 0.9272976831971628, 0.009680300505380367, 0.003226766835126789, 0.9583497500326564, 0.029040901516141103, 0.16513420676186855, 0.1494071394512144, 0.09043063703626134, 0.5661744231835493, 0.03145413462130829, 0.8006379973537262, 0.16012759947074526, 0.9771539134073374, 0.9532400642629553, 0.04056340698991299, 0.046839994093744716, 0.07025999114061708, 0.6089199232186813, 0.2810399645624683, 0.4402673220500281, 0.2358574939553722, 0.04717149879107444, 0.09434299758214888, 0.17296216223393962, 0.9833310159641088, 0.2244591532771872, 0.48009318895398373, 0.0187049294397656, 0.27433896511656214, 0.13311179480430502, 0.5398422789285703, 0.06655589740215251, 0.17748239307240668, 0.0850436466805282, 0.08556971409471473, 0.1818356424512688, 0.021392428523678682, 0.23531671376046548, 0.47063342752093096, 0.06599268210848623, 0.21997560702828745, 0.5059438961650611, 0.10998780351414372, 0.10998780351414372, 0.007352510998515973, 0.816128720835273, 0.1691077529658674, 0.9682624518289747, 0.018201269520948304, 0.8736609370055186, 0.09100634760474152, 0.9673761534627039, 0.8055623128223359, 0.17901384729385245, 0.11648903331615476, 0.2989885188447972, 0.09707419443012898, 0.43100942326977265, 0.06212748443528254, 0.9853273434069407, 0.015639673070690526, 0.2580546056663937, 0.0860182018887979, 0.4926497017267516, 0.14466697590388738, 0.9135865000366239, 0.07212525000289136, 0.9645329922792847, 0.9675397056214378, 0.02471173509584498, 0.9143341985462642, 0.04942347019168996, 0.013526643058381568, 0.19613632434653275, 0.44637922092659177, 0.34492939798873, 0.007396920856688214, 0.7396920856688214, 0.014793841713376428, 0.08876305028025858, 0.14054149627707607], \"Term\": [\"000\", \"000\", \"000\", \"000\", \"000\", \"10\", \"10\", \"10\", \"10\", \"10\", \"12\", \"12\", \"12\", \"12\", \"160\", \"1960\", \"1960\", \"1960\", \"30\", \"30\", \"30\", \"30\", \"36\", \"36\", \"36\", \"accuracy\", \"accuracy\", \"act\", \"act\", \"administration\", \"administration\", \"administration\", \"administrative\", \"af\", \"af\", \"af\", \"af\", \"agency\", \"agreement\", \"agreement\", \"air\", \"air\", \"air\", \"air\", \"air\", \"aircraft\", \"al\", \"alexander\", \"alexander\", \"american\", \"american\", \"american\", \"american\", \"american\", \"anderson\", \"ann\", \"apparatus\", \"applied\", \"applied\", \"applied\", \"applied\", \"applied\", \"attorney\", \"authorized\", \"away\", \"away\", \"away\", \"away\", \"away\", \"ball\", \"ball\", \"ballet\", \"ballet\", \"bank\", \"bar\", \"bar\", \"bar\", \"bar\", \"bars\", \"bars\", \"bars\", \"baseball\", \"baseball\", \"beautiful\", \"beautiful\", \"beautiful\", \"best\", \"best\", \"best\", \"best\", \"best\", \"black\", \"black\", \"black\", \"black\", \"blades\", \"blades\", \"blocks\", \"board\", \"board\", \"board\", \"board\", \"bridge\", \"bridge\", \"bridge\", \"brown\", \"brown\", \"brown\", \"brown\", \"brown\", \"build\", \"build\", \"build\", \"build\", \"builder\", \"builder\", \"builders\", \"builders\", \"business\", \"business\", \"business\", \"business\", \"business\", \"came\", \"came\", \"came\", \"came\", \"cattle\", \"cattle\", \"chairman\", \"chairman\", \"chairman\", \"chairman\", \"chairman\", \"chemical\", \"chemical\", \"citizens\", \"city\", \"city\", \"city\", \"city\", \"clarity\", \"clarity\", \"class\", \"class\", \"class\", \"class\", \"class\", \"clay\", \"clay\", \"clay\", \"club\", \"club\", \"club\", \"club\", \"coach\", \"come\", \"come\", \"come\", \"come\", \"come\", \"company\", \"company\", \"company\", \"company\", \"company\", \"concrete\", \"concrete\", \"congo\", \"congress\", \"cooled\", \"cooling\", \"cooling\", \"cooling\", \"corps\", \"corps\", \"couldn\", \"couldn\", \"county\", \"county\", \"county\", \"county\", \"course\", \"course\", \"course\", \"course\", \"course\", \"cream\", \"cut\", \"cut\", \"cut\", \"cut\", \"cut\", \"daily\", \"daily\", \"daily\", \"daily\", \"dancer\", \"dancer\", \"dave\", \"day\", \"day\", \"day\", \"day\", \"day\", \"deadlock\", \"department\", \"department\", \"department\", \"development\", \"development\", \"development\", \"didn\", \"didn\", \"dog\", \"dog\", \"dog\", \"dog\", \"don\", \"don\", \"don\", \"don\", \"don\", \"door\", \"door\", \"door\", \"drill\", \"drill\", \"drill\", \"economy\", \"election\", \"election\", \"erected\", \"ex\", \"exercise\", \"exercise\", \"exercise\", \"experiments\", \"experiments\", \"eyes\", \"eyes\", \"eyes\", \"fallout\", \"fallout\", \"father\", \"father\", \"father\", \"federal\", \"federal\", \"federal\", \"federal\", \"feed\", \"feed\", \"felt\", \"felt\", \"felt\", \"financing\", \"fiscal\", \"fiscal\", \"flexibility\", \"flexibility\", \"football\", \"football\", \"frame\", \"frame\", \"frame\", \"frame\", \"frames\", \"frames\", \"friday\", \"friday\", \"friday\", \"friday\", \"gallery\", \"gallery\", \"game\", \"game\", \"game\", \"gas\", \"gas\", \"gas\", \"gas\", \"general\", \"general\", \"general\", \"general\", \"girls\", \"girls\", \"girls\", \"god\", \"god\", \"god\", \"going\", \"going\", \"going\", \"going\", \"golf\", \"golf\", \"good\", \"good\", \"good\", \"good\", \"good\", \"got\", \"got\", \"got\", \"got\", \"government\", \"government\", \"government\", \"government\", \"great\", \"great\", \"great\", \"great\", \"great\", \"hadn\", \"hadn\", \"hair\", \"hair\", \"half\", \"half\", \"half\", \"half\", \"half\", \"head\", \"head\", \"head\", \"head\", \"head\", \"heat\", \"heat\", \"heat\", \"heater\", \"heater\", \"heating\", \"heating\", \"hell\", \"high\", \"high\", \"high\", \"high\", \"high\", \"hit\", \"hit\", \"hit\", \"hit\", \"hollywood\", \"home\", \"home\", \"home\", \"home\", \"home\", \"homer\", \"house\", \"house\", \"house\", \"house\", \"imagine\", \"inch\", \"inch\", \"inch\", \"inch\", \"income\", \"income\", \"income\", \"innocent\", \"inside\", \"inside\", \"inside\", \"installed\", \"installed\", \"installed\", \"installed\", \"institutions\", \"isn\", \"isn\", \"jane\", \"jesus\", \"john\", \"john\", \"john\", \"john\", \"johnny\", \"jr\", \"jr\", \"jr\", \"judge\", \"judge\", \"judge\", \"judge\", \"junior\", \"junior\", \"junior\", \"justice\", \"kennedy\", \"kennedy\", \"kennedy\", \"kennedy\", \"knew\", \"knew\", \"knew\", \"knew\", \"know\", \"know\", \"know\", \"know\", \"know\", \"laos\", \"laos\", \"large\", \"large\", \"large\", \"large\", \"large\", \"laughed\", \"league\", \"league\", \"league\", \"lee\", \"left\", \"left\", \"left\", \"left\", \"left\", \"leg\", \"leg\", \"leg\", \"let\", \"let\", \"let\", \"let\", \"let\", \"lever\", \"lever\", \"life\", \"life\", \"life\", \"life\", \"life\", \"liked\", \"line\", \"line\", \"line\", \"line\", \"line\", \"listening\", \"little\", \"little\", \"little\", \"little\", \"little\", \"loan\", \"loans\", \"local\", \"local\", \"local\", \"look\", \"look\", \"look\", \"look\", \"look\", \"looked\", \"looked\", \"looked\", \"looked\", \"love\", \"love\", \"loved\", \"lumber\", \"lumber\", \"man\", \"man\", \"man\", \"man\", \"marketing\", \"measurement\", \"measurement\", \"measurements\", \"measurements\", \"meat\", \"meat\", \"meeting\", \"meeting\", \"meeting\", \"military\", \"military\", \"military\", \"million\", \"million\", \"million\", \"million\", \"miss\", \"miss\", \"miss\", \"missile\", \"missouri\", \"moments\", \"monday\", \"monday\", \"monday\", \"mother\", \"mother\", \"mother\", \"motors\", \"mr\", \"mr\", \"mr\", \"mr\", \"mr\", \"mrs\", \"mrs\", \"mrs\", \"muscle\", \"muscle\", \"muscle\", \"muscle\", \"muscles\", \"muscles\", \"muscles\", \"nam\", \"national\", \"national\", \"national\", \"national\", \"national\", \"night\", \"night\", \"night\", \"night\", \"night\", \"nuclear\", \"nuclear\", \"number\", \"number\", \"number\", \"number\", \"number\", \"oct\", \"oil\", \"oil\", \"oil\", \"old\", \"old\", \"old\", \"old\", \"old\", \"orchestra\", \"organization\", \"organization\", \"outdoors\", \"outside\", \"outside\", \"outside\", \"painting\", \"pale\", \"panels\", \"panels\", \"panels\", \"panels\", \"parallel\", \"parallel\", \"parallel\", \"payment\", \"payments\", \"peace\", \"peace\", \"people\", \"people\", \"people\", \"people\", \"piece\", \"piece\", \"piece\", \"piece\", \"piece\", \"pieces\", \"pieces\", \"pieces\", \"pieces\", \"pipes\", \"pitcher\", \"pitching\", \"place\", \"place\", \"place\", \"place\", \"place\", \"plastic\", \"plastic\", \"plastic\", \"play\", \"play\", \"play\", \"play\", \"player\", \"player\", \"player\", \"players\", \"playing\", \"playing\", \"policy\", \"policy\", \"polished\", \"political\", \"political\", \"pool\", \"pool\", \"pool\", \"pope\", \"pope\", \"position\", \"position\", \"position\", \"position\", \"position\", \"possible\", \"possible\", \"possible\", \"possible\", \"possible\", \"precise\", \"precise\", \"precision\", \"precision\", \"precision\", \"president\", \"president\", \"president\", \"president\", \"press\", \"press\", \"press\", \"press\", \"press\", \"pressure\", \"pressure\", \"pressure\", \"pressure\", \"pressure\", \"program\", \"program\", \"program\", \"property\", \"property\", \"providence\", \"providence\", \"public\", \"public\", \"public\", \"public\", \"push\", \"push\", \"push\", \"push\", \"push\", \"radiation\", \"radiation\", \"rayburn\", \"remembered\", \"report\", \"report\", \"representatives\", \"republican\", \"republican\", \"republican\", \"rhode\", \"rhode\", \"rhode\", \"right\", \"right\", \"right\", \"right\", \"right\", \"robinson\", \"roger\", \"roof\", \"run\", \"run\", \"run\", \"run\", \"run\", \"runs\", \"runs\", \"runs\", \"runs\", \"ruth\", \"said\", \"said\", \"said\", \"said\", \"sales\", \"sales\", \"sales\", \"salt\", \"salt\", \"sat\", \"saturday\", \"saturday\", \"saturday\", \"school\", \"school\", \"school\", \"school\", \"school\", \"screw\", \"screw\", \"screw\", \"season\", \"season\", \"season\", \"season\", \"seats\", \"seats\", \"secretary\", \"secretary\", \"secretary\", \"senators\", \"service\", \"service\", \"service\", \"service\", \"service\", \"services\", \"services\", \"set\", \"set\", \"set\", \"set\", \"set\", \"shall\", \"shall\", \"shall\", \"shares\", \"shelter\", \"shipping\", \"shipping\", \"sight\", \"sign\", \"sign\", \"sign\", \"sign\", \"sign\", \"signal\", \"signal\", \"signal\", \"signal\", \"signs\", \"signs\", \"signs\", \"signs\", \"sky\", \"slip\", \"slip\", \"smiled\", \"sounds\", \"speak\", \"speak\", \"st\", \"st\", \"st\", \"stadium\", \"stared\", \"state\", \"state\", \"state\", \"state\", \"state\", \"states\", \"states\", \"states\", \"states\", \"stations\", \"stations\", \"stood\", \"stood\", \"stood\", \"stove\", \"sugar\", \"sugar\", \"sugar\", \"sunday\", \"sunday\", \"sunday\", \"super\", \"super\", \"super\", \"super\", \"surfaces\", \"surfaces\", \"system\", \"system\", \"system\", \"system\", \"tax\", \"team\", \"team\", \"team\", \"team\", \"technical\", \"technical\", \"technique\", \"technique\", \"technique\", \"temperature\", \"temperature\", \"temperature\", \"textile\", \"textile\", \"thickness\", \"thing\", \"thing\", \"thing\", \"thing\", \"think\", \"think\", \"think\", \"think\", \"thought\", \"thought\", \"thought\", \"thought\", \"tone\", \"took\", \"took\", \"took\", \"took\", \"took\", \"tool\", \"tool\", \"tool\", \"tool\", \"trim\", \"trim\", \"trim\", \"underground\", \"united\", \"united\", \"united\", \"united\", \"use\", \"use\", \"use\", \"use\", \"use\", \"vernon\", \"vernon\", \"viet\", \"voice\", \"voice\", \"volume\", \"volume\", \"volume\", \"volume\", \"wall\", \"wall\", \"wall\", \"wall\", \"wall\", \"wasn\", \"water\", \"water\", \"water\", \"water\", \"way\", \"way\", \"way\", \"way\", \"way\", \"week\", \"week\", \"week\", \"week\", \"week\", \"weight\", \"weight\", \"weight\", \"weight\", \"weight\", \"went\", \"went\", \"went\", \"willie\", \"woman\", \"woman\", \"woman\", \"wondered\", \"wooden\", \"wooden\", \"work\", \"work\", \"work\", \"work\", \"work\", \"workers\", \"world\", \"world\", \"world\", \"world\", \"world\", \"wouldn\", \"wouldn\", \"yankees\", \"yards\", \"yes\", \"yes\", \"yes\", \"york\", \"york\", \"york\", \"york\", \"young\", \"young\", \"young\", \"young\", \"young\"]}, \"R\": 30, \"lambda.step\": 0.01, \"plot.opts\": {\"xlab\": \"PC1\", \"ylab\": \"PC2\"}, \"topic.order\": [1, 2, 3, 4, 5]};\n",
       "\n",
       "function LDAvis_load_lib(url, callback){\n",
       "  var s = document.createElement('script');\n",
       "  s.src = url;\n",
       "  s.async = true;\n",
       "  s.onreadystatechange = s.onload = callback;\n",
       "  s.onerror = function(){console.warn(\"failed to load library \" + url);};\n",
       "  document.getElementsByTagName(\"head\")[0].appendChild(s);\n",
       "}\n",
       "\n",
       "if(typeof(LDAvis) !== \"undefined\"){\n",
       "   // already loaded: just create the visualization\n",
       "   !function(LDAvis){\n",
       "       new LDAvis(\"#\" + \"ldavis_el856431568679313761720072178\", ldavis_el856431568679313761720072178_data);\n",
       "   }(LDAvis);\n",
       "}else if(typeof define === \"function\" && define.amd){\n",
       "   // require.js is available: use it to load d3/LDAvis\n",
       "   require.config({paths: {d3: \"https://d3js.org/d3.v5\"}});\n",
       "   require([\"d3\"], function(d3){\n",
       "      window.d3 = d3;\n",
       "      LDAvis_load_lib(\"https://cdn.jsdelivr.net/gh/bmabey/pyLDAvis@3.3.1/pyLDAvis/js/ldavis.v3.0.0.js\", function(){\n",
       "        new LDAvis(\"#\" + \"ldavis_el856431568679313761720072178\", ldavis_el856431568679313761720072178_data);\n",
       "      });\n",
       "    });\n",
       "}else{\n",
       "    // require.js not available: dynamically load d3 & LDAvis\n",
       "    LDAvis_load_lib(\"https://d3js.org/d3.v5.js\", function(){\n",
       "         LDAvis_load_lib(\"https://cdn.jsdelivr.net/gh/bmabey/pyLDAvis@3.3.1/pyLDAvis/js/ldavis.v3.0.0.js\", function(){\n",
       "                 new LDAvis(\"#\" + \"ldavis_el856431568679313761720072178\", ldavis_el856431568679313761720072178_data);\n",
       "            })\n",
       "         });\n",
       "}\n",
       "</script>"
      ],
      "text/plain": [
       "<IPython.core.display.HTML object>"
      ]
     },
     "execution_count": 85,
     "metadata": {},
     "output_type": "execute_result"
    }
   ],
   "source": [
    "pyLDAvis.display(lda_display)"
   ]
  },
  {
   "cell_type": "markdown",
   "id": "a3d14c87",
   "metadata": {},
   "source": [
    "Q: What conclusions do you draw from the visualization above? Please address the principal component scatterplot and the salient terms graph.\n",
    "\n",
    "A: The low dimensional projection (and non-overlapping separation) of the topics reinforces the resonable topic separation noted by examining the words in the topics.  The length of the red bars decreases most rapidly for Bubble 4 (which is topic 3, our newsy/government topic), and Bubble 5 (which is topic 4, our mr, mrs, news topic).  This was seen in the mapping to Brown topics: topics 3/4 were almost entirely restricted to the news/governement/editorial Brown categories.  Topics 0, 1 and 2 are less defined and made up articles from the more heterogeneous categories of \"hobbies\", \"romance\", and also \"editorials\".\n"
   ]
  }
 ],
 "metadata": {
  "kernelspec": {
   "display_name": "Python 3 (ipykernel)",
   "language": "python",
   "name": "python3"
  },
  "language_info": {
   "codemirror_mode": {
    "name": "ipython",
    "version": 3
   },
   "file_extension": ".py",
   "mimetype": "text/x-python",
   "name": "python",
   "nbconvert_exporter": "python",
   "pygments_lexer": "ipython3",
   "version": "3.9.12"
  }
 },
 "nbformat": 4,
 "nbformat_minor": 5
}
